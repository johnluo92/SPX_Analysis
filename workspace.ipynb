{
 "cells": [
  {
   "cell_type": "code",
   "execution_count": 1,
   "id": "42024c0f-ee1f-4897-b951-411868affb4d",
   "metadata": {},
   "outputs": [
    {
     "name": "stdout",
     "output_type": "stream",
     "text": [
      "Calculated futures price: 5744.27\n",
      "Actual December contract price: 5749.00\n",
      "Difference: 4.73\n",
      "\n",
      "Factors that might explain the difference:\n",
      "1. Market expectations for index growth\n",
      "2. Supply and demand dynamics in the futures market\n",
      "3. Differences in borrowing costs among market participants\n",
      "4. Variations in dividend forecasts\n",
      "5. Risk premium for holding the futures contract\n"
     ]
    }
   ],
   "source": [
    "# S&P 500 Futures Price Calculation\n",
    "\n",
    "# Given information\n",
    "spot_price = 5700  # Current S&P 500 index value\n",
    "fed_funds_rate = 0.05  # 500 bps = 5%\n",
    "dividend_yield = 0.0122  # SPY yield of 1.22%\n",
    "days_to_expiration = 75  # Approximate days from now to mid-December\n",
    "\n",
    "# Calculate the futures price\n",
    "risk_free_rate = fed_funds_rate  # Assuming fed funds rate as risk-free rate\n",
    "time_fraction = days_to_expiration / 365  # Fraction of a year\n",
    "\n",
    "futures_price = spot_price * (1 + (risk_free_rate - dividend_yield) * time_fraction)\n",
    "\n",
    "print(f\"Calculated futures price: {futures_price:.2f}\")\n",
    "print(f\"Actual December contract price: 5749.00\")\n",
    "print(f\"Difference: {5749 - futures_price:.2f}\")\n",
    "\n",
    "# Additional factors to consider\n",
    "print(\"\\nFactors that might explain the difference:\")\n",
    "print(\"1. Market expectations for index growth\")\n",
    "print(\"2. Supply and demand dynamics in the futures market\")\n",
    "print(\"3. Differences in borrowing costs among market participants\")\n",
    "print(\"4. Variations in dividend forecasts\")\n",
    "print(\"5. Risk premium for holding the futures contract\")"
   ]
  },
  {
   "cell_type": "code",
   "execution_count": null,
   "id": "5b840969-e90e-432e-bd69-0c8514862db0",
   "metadata": {},
   "outputs": [],
   "source": []
  }
 ],
 "metadata": {
  "kernelspec": {
   "display_name": "Python 3 (ipykernel)",
   "language": "python",
   "name": "python3"
  },
  "language_info": {
   "codemirror_mode": {
    "name": "ipython",
    "version": 3
   },
   "file_extension": ".py",
   "mimetype": "text/x-python",
   "name": "python",
   "nbconvert_exporter": "python",
   "pygments_lexer": "ipython3",
   "version": "3.12.3"
  }
 },
 "nbformat": 4,
 "nbformat_minor": 5
}
