{
 "cells": [
  {
   "cell_type": "code",
   "execution_count": 2,
   "id": "588da32a-42ff-4855-9959-bc2866266bb4",
   "metadata": {},
   "outputs": [
    {
     "name": "stdout",
     "output_type": "stream",
     "text": [
      "\n",
      "===========================================================================\n",
      "📊 AAPL - Post-Earnings Containment Analysis (LOO)\n",
      "===========================================================================\n",
      "\n",
      "📊 AAPL | RVol45: 11.6% | RVol90: 12.8%\n",
      "    Strike Widths: 45D=14.2% | 90D=13.6%\n",
      "\n",
      "  45-Day: 24/24 tested (LOO)\n",
      "    Containment: 71%\n",
      "    Breaks: Up 5, Down 2\n",
      "    Overall Bias: 54% up\n",
      "    Break Bias: 71% of breaks were upward\n",
      "    Avg Drift: +2.7% (+19% of width)\n",
      "\n",
      "  90-Day: 23/24 tested (LOO)\n",
      "    Containment: 74%\n",
      "    Breaks: Up 6, Down 0\n",
      "    Overall Bias: 57% up\n",
      "    Break Bias: 100% of breaks were upward\n",
      "    Avg Drift: +5.4% (+40% of width)\n",
      "\n",
      "  💡 Strategy: IC90⚠↑\n"
     ]
    }
   ],
   "source": [
    "from earnings_analyzer import analyze_ticker\n",
    "\n",
    "# Test single ticker\n",
    "result, status = analyze_ticker(\"AAPL\", lookback_quarters=24, verbose=True)"
   ]
  },
  {
   "cell_type": "code",
   "execution_count": 2,
   "id": "e088df4c-8183-4ae1-b5f5-28a2efb02070",
   "metadata": {},
   "outputs": [
    {
     "name": "stdout",
     "output_type": "stream",
     "text": [
      "\n",
      "===========================================================================\n",
      "EARNINGS CONTAINMENT ANALYZER - v2.7\n",
      "Lookback: 24 quarters (~6 years)\n",
      "Current IV from Yahoo Finance (15-20min delayed)\n",
      "Parallel processing: 4 workers\n",
      "===========================================================================\n",
      "\n",
      "✓ All 4 API keys available\n",
      "                                                                                \n",
      "📊 FETCH SUMMARY\n",
      "===========================================================================\n",
      "✓ Earnings Cached (38): DAL, FAST, PEP, BLK, C...\n",
      "✓ IV Retrieved (38): DAL, FAST, PEP, BLK, C...\n",
      "\n",
      "==============================================================================================================\n",
      "BACKTEST RESULTS\n",
      "==============================================================================================================\n",
      "Ticker  RVol45  RVol90 IV45 IVP45 |  45D%  90D%  90Bias 90Break 90Drift  |  Pattern\n",
      "   DAL      15      23   42 +174% |    75    75      67     3:3   +3.5%   |    IC90\n",
      "  FAST       7       8   31 +327% |    75    74      61    5:1↑   +4.0%   |  IC90⚠↑\n",
      "   PEP       5       7   24 +362% |    75    74      65     3:3   +1.3%   |    IC90\n",
      "   BLK       9      15   28 +183% |    75    74      57    6:0↑   +4.9%   |  IC90⚠↑\n",
      "     C      10      20   31 +201% |    75    74      48     3:3   +2.9%   |    IC90\n",
      "    GS       9      16   33 +272% |    75    74      61    5:1↑   +6.6%   |  IC90⚠↑\n",
      "   DPZ       8      13   39 +385% |    71    74      61    4:2↑   +2.9%   |    IC90\n",
      "   JNJ       5       5   24 +357% |    75    74      52    4:2↑   +0.4%   |    IC90\n",
      "   OMC      12      14   35 +190% |    71    70      61     3:4   +0.2%   |    IC90\n",
      "   JPM       7      14   28 +261% |    71    74      70    4:2↑   +4.7%   |    IC90\n",
      "   ABT       8       8   24 +192% |    71    74      57    5:1↑   +2.5%   |  IC90⚠↑\n",
      "   WFC       9      18   29 +198% |    75    74      65    4:2↑   +4.6%   |    IC90\n",
      "   BAC       9      16   31 +222% |    75    70      61     4:3   +3.1%   |    IC90\n",
      "    MS      10      17   28 +180% |    75    70      70    5:2↑   +5.9%   |    IC90\n",
      "   CFG      10      22   28 +161% |    75    74      65     3:3   +3.1%   |    IC90\n",
      "   PGR       7       9   30 +327% |    75    74      70    6:0↑   +6.0%   |  IC90⚠↑\n",
      "   PLD       8      12   28 +258% |    71    74      61     3:3   +1.3%   |    IC90\n",
      "   SYF      19      24   40 +110% |    75    74      65    5:1↑   +7.9%   |  IC90⚠↑\n",
      "   PNC       9      17   24 +149% |    71    74      70     3:3   +4.3%   |    IC90\n",
      "  JBHT       8      12   42 +421% |    71    74      52     3:3   +1.4%   |    IC90\n",
      "   UAL      19      28   50 +156% |    75    74      57    4:2↑   +4.3%   |    IC90\n",
      "   KEY      14      20   29 +101% |    71    74      61    4:2↑   +3.7%   |    IC90\n",
      "    BK       8      14   29 +248% |    71    70      65    5:2↑   +4.3%   |    IC90\n",
      "   MMC       7       9   26 +239% |    71    74      70    4:2↑   +3.4%   |    IC90\n",
      "   MTB      11      17   31 +184% |    71    74      65     3:3   +2.6%   |    IC90\n",
      "  SCHW      12      20   31 +152% |    75    74      65    4:2↑   +5.3%   |    IC90\n",
      "   SNA      13      13   30 +117% |    71    74      61    4:2↑   +3.7%   |    IC90\n",
      "   TRV       8      11   27 +209% |    75    74      61    4:2↑   +4.0%   |    IC90\n",
      "   USB       8      15   28 +218% |    75    74      61     3:3   +0.6%   |    IC90\n",
      "   CSX       8      11   30 +258% |    75    74      65    4:2↑   +2.7%   |    IC90\n",
      "   AXP      13      16   32 +135% |    71    74      74    5:1↑   +5.8%   |  IC90⚠↑\n",
      "  FITB      13      19   29 +126% |    75    74      57    4:2↑   +3.3%   |    IC90\n",
      "  HBAN      15      18   45 +198% |    71    74      61     3:3   +1.9%   |    IC90\n",
      "    RF      10      18   30 +181% |    71    74      61    4:2↑   +3.7%   |    IC90\n",
      "   SLB      16      23   42 +163% |    75    74      61    5:1↑   +3.7%   |  IC90⚠↑\n",
      "   STT      11      17   34 +199% |    75    74      61     3:3   +2.5%   |    IC90\n",
      "   TFC      13      15   26  +98% |    75    74      57     3:3   +0.4%   |    IC90\n",
      "  STLD      14      20   38 +171% |    75    74      65    4:2↑   +9.8%   |    IC90\n",
      "\n",
      "==============================================================================================================\n",
      "KEY TAKEAWAYS:\n",
      "==============================================================================================================\n",
      "\n",
      "📊 Pattern Summary: 38 IC candidates | 0 Upward bias | 0 Downward bias | 0 No edge\n",
      "\n",
      "⚠️  Asymmetric ICs:\n",
      "  Upside risk: FAST, BLK, GS, ABT, PGR, SYF, AXP, SLB\n",
      "\n",
      "💡 Remember: Past patterns ≠ Future results. IV context shows current opportunity cost.\n"
     ]
    }
   ],
   "source": [
    "from earnings_analyzer import batch_analyze\n",
    "from earnings_analyzer.visualization.quality_matrix import plot_quality_matrix\n",
    "\n",
    "# Full ticker list\n",
    "tickers = [\n",
    "    \"DAL\", \"PEP\", \"FAST\", \"BLK\", \"C\", \"DPZ\", \"GS\", \"JNJ\", \"JPM\", \"WFC\",\n",
    "    \"OMC\", \"ABT\", \"BAC\", \"CFG\", \"MS\", \"PGR\", \"PLD\", \"PNC\", \"SYF\", \"JBHT\",\n",
    "    \"UAL\", \"BK\", \"KEY\", \"MMC\", \"MTB\", \"SCHW\", \"SNA\", \"TRV\", \"USB\", \"CSX\",\n",
    "    \"AXP\", \"FITB\", \"HBAN\", \"RF\", \"SLB\", \"STT\", \"TFC\", \"STLD\"\n",
    "]\n",
    "\n",
    "results = batch_analyze(tickers, lookback_quarters=24, fetch_iv=True, parallel=True)\n",
    "\n",
    "# if results is not None:\n",
    "#     plot_quality_matrix(results, save_path='quality_matrix_full.html', show=True)"
   ]
  },
  {
   "cell_type": "code",
   "execution_count": 1,
   "id": "2aaf135c-16d8-4911-8253-c844663729b9",
   "metadata": {},
   "outputs": [
    {
     "name": "stdout",
     "output_type": "stream",
     "text": [
      "\n",
      "===========================================================================\n",
      "EARNINGS CONTAINMENT ANALYZER - v2.7\n",
      "Lookback: 24 quarters (~6 years)\n",
      "Current IV from Yahoo Finance (15-20min delayed)\n",
      "===========================================================================\n",
      "\n",
      "✓ All 4 API keys available\n",
      "                                                                                \n",
      "📊 FETCH SUMMARY\n",
      "===========================================================================\n",
      "✓ Earnings Cached (3): AAPL, MSFT, JPM\n",
      "✓ IV Retrieved (3): AAPL, MSFT, JPM\n",
      "\n",
      "==============================================================================================================\n",
      "BACKTEST RESULTS\n",
      "==============================================================================================================\n",
      "Ticker  RVol45  RVol90 IV45 IVP45 |  45D%  90D%  90Bias 90Break 90Drift  |  Pattern\n",
      "  AAPL      11      12   28 +141% |    71    74      57    6:0↑   +5.4%   |  IC90⚠↑\n",
      "  MSFT       7      10   28 +281% |    75    74      65    6:0↑   +6.2%   |  IC90⚠↑\n",
      "   JPM       7      14   28 +261% |    71    74      70    4:2↑   +4.7%   |    IC90\n",
      "\n",
      "==============================================================================================================\n",
      "KEY TAKEAWAYS:\n",
      "==============================================================================================================\n",
      "\n",
      "📊 Pattern Summary: 3 IC candidates | 0 Upward bias | 0 Downward bias | 0 No edge\n",
      "\n",
      "⚠️  Asymmetric ICs:\n",
      "  Upside risk: AAPL, MSFT\n",
      "\n",
      "💡 Remember: Past patterns ≠ Future results. IV context shows current opportunity cost.\n"
     ]
    }
   ],
   "source": [
    "from earnings_analyzer import batch_analyze\n",
    "\n",
    "tickers = [\"AAPL\", \"MSFT\", \"JPM\"]\n",
    "results = batch_analyze(tickers, lookback_quarters=24, fetch_iv=True, parallel=False)"
   ]
  },
  {
   "cell_type": "code",
   "execution_count": null,
   "id": "d70a8df7-e3bb-430a-b70e-021909150fd4",
   "metadata": {},
   "outputs": [],
   "source": []
  }
 ],
 "metadata": {
  "kernelspec": {
   "display_name": "Python 3 (ipykernel)",
   "language": "python",
   "name": "python3"
  },
  "language_info": {
   "codemirror_mode": {
    "name": "ipython",
    "version": 3
   },
   "file_extension": ".py",
   "mimetype": "text/x-python",
   "name": "python",
   "nbconvert_exporter": "python",
   "pygments_lexer": "ipython3",
   "version": "3.10.4"
  }
 },
 "nbformat": 4,
 "nbformat_minor": 5
}
