{
 "cells": [
  {
   "cell_type": "code",
   "execution_count": 4,
   "id": "588da32a-42ff-4855-9959-bc2866266bb4",
   "metadata": {},
   "outputs": [
    {
     "name": "stdout",
     "output_type": "stream",
     "text": [
      "\n",
      "===========================================================================\n",
      "EARNINGS CONTAINMENT ANALYZER - v2.7\n",
      "Lookback: 24 quarters (~6 years)\n",
      "Current IV from Yahoo Finance (15-20min delayed)\n",
      "===========================================================================\n",
      "\n",
      "✓ All 4 API keys available\n",
      "                                                                                \n",
      "📊 FETCH SUMMARY\n",
      "===========================================================================\n",
      "✓ Earnings Cached (3): JNJ, JPM, WFC\n",
      "✓ IV Retrieved (3): JNJ, JPM, WFC\n",
      "\n",
      "==============================================================================================================\n",
      "BACKTEST RESULTS\n",
      "==============================================================================================================\n",
      "Ticker  RVol45  RVol90 IV45 IVP45 |  45D%  90D%  90Bias 90Break 90Drift  |                                            Pattern\n",
      "   JNJ       5       5   24 +357% |    75    74      52    4:2↑   +0.4%   |                        IC90 + BIAS↑ (4:2↑ breaks)\n",
      "   JPM       7      14   28 +261% |    71    74      70    4:2↑   +4.7%   | IC90 + BIAS↑ (70% bias, 4:2↑ breaks, +4.7% drift)\n",
      "   WFC       9      18   29 +198% |    75    74      65    4:2↑   +4.6%   | IC90 + BIAS↑ (65% bias, 4:2↑ breaks, +4.6% drift)\n",
      "\n",
      "==============================================================================================================\n",
      "KEY TAKEAWAYS:\n",
      "==============================================================================================================\n",
      "\n",
      "📊 Pattern Summary: 3 IC candidates | 3 Upward bias | 0 Downward bias | 0 No edge\n",
      "\n",
      "📈 Strong Directional Signals:\n",
      "  JPM: 70% bias ↑, 4:2↑ breaks, +4.7% drift\n",
      "\n",
      "💡 Remember: Past patterns ≠ Future results. IV context shows current opportunity cost.\n"
     ]
    }
   ],
   "source": [
    "from earnings_analyzer import batch_analyze\n",
    "results = batch_analyze([\"JNJ\", \"JPM\", \"WFC\"], lookback_quarters=24, fetch_iv=True)"
   ]
  },
  {
   "cell_type": "code",
   "execution_count": 5,
   "id": "e088df4c-8183-4ae1-b5f5-28a2efb02070",
   "metadata": {},
   "outputs": [
    {
     "name": "stdout",
     "output_type": "stream",
     "text": [
      "\n",
      "===========================================================================\n",
      "EARNINGS CONTAINMENT ANALYZER - v2.7\n",
      "Lookback: 24 quarters (~6 years)\n",
      "Current IV from Yahoo Finance (15-20min delayed)\n",
      "Parallel processing: 4 workers\n",
      "===========================================================================\n",
      "\n",
      "✓ All 4 API keys available\n",
      "                                                                                \n",
      "📊 FETCH SUMMARY\n",
      "===========================================================================\n",
      "✓ Earnings Cached (38): DAL, FAST, BLK, PEP, C...\n",
      "✓ IV Retrieved (38): DAL, FAST, BLK, PEP, C...\n",
      "\n",
      "==============================================================================================================\n",
      "BACKTEST RESULTS\n",
      "==============================================================================================================\n",
      "Ticker  RVol45  RVol90 IV45 IVP45 |  45D%  90D%  90Bias 90Break 90Drift  |                                              Pattern\n",
      "   DAL      15      23   42 +174% |    75    75      67     3:3   +3.5%   |                IC90 + BIAS↑ (67% bias, +3.5% drift)\n",
      "  FAST       7       8   31 +327% |    75    74      61    5:1↑   +4.0%   |           IC90⚠↑ + BIAS↑ (5:1↑ breaks, +4.0% drift)\n",
      "   BLK       9      15   28 +183% |    75    74      57    6:0↑   +4.9%   |           IC90⚠↑ + BIAS↑ (6:0↑ breaks, +4.9% drift)\n",
      "   PEP       5       7   24 +362% |    75    74      65     3:3   +1.3%   |                             IC90 + BIAS↑ (65% bias)\n",
      "     C      10      20   31 +201% |    75    74      48     3:3   +2.9%   |                                                IC90\n",
      "   DPZ       8      13   39 +385% |    71    74      61    4:2↑   +2.9%   |                          IC90 + BIAS↑ (4:2↑ breaks)\n",
      "    GS       9      16   33 +272% |    75    74      61    5:1↑   +6.6%   |           IC90⚠↑ + BIAS↑ (5:1↑ breaks, +6.6% drift)\n",
      "   JNJ       5       5   24 +357% |    75    74      52    4:2↑   +0.4%   |                          IC90 + BIAS↑ (4:2↑ breaks)\n",
      "   JPM       7      14   28 +261% |    71    74      70    4:2↑   +4.7%   |   IC90 + BIAS↑ (70% bias, 4:2↑ breaks, +4.7% drift)\n",
      "   ABT       8       8   24 +192% |    71    74      57    5:1↑   +2.5%   |                        IC90⚠↑ + BIAS↑ (5:1↑ breaks)\n",
      "   OMC      12      14   35 +190% |    71    70      61     3:4   +0.2%   |                                                IC90\n",
      "   WFC       9      18   29 +198% |    75    74      65    4:2↑   +4.6%   |   IC90 + BIAS↑ (65% bias, 4:2↑ breaks, +4.6% drift)\n",
      "   BAC       9      16   31 +222% |    75    70      61     4:3   +3.1%   |                          IC90 + BIAS↑ (+3.1% drift)\n",
      "    MS      10      17   28 +180% |    75    70      70    5:2↑   +5.9%   |   IC90 + BIAS↑ (70% bias, 5:2↑ breaks, +5.9% drift)\n",
      "   PGR       7       9   30 +327% |    75    74      70    6:0↑   +6.0%   | IC90⚠↑ + BIAS↑ (70% bias, 6:0↑ breaks, +6.0% drift)\n",
      "   CFG      10      22   28 +161% |    75    74      65     3:3   +3.1%   |                IC90 + BIAS↑ (65% bias, +3.1% drift)\n",
      "   PLD       8      12   28 +258% |    71    74      61     3:3   +1.3%   |                                                IC90\n",
      "   PNC       9      17   24 +149% |    71    74      70     3:3   +4.3%   |                IC90 + BIAS↑ (70% bias, +4.3% drift)\n",
      "  JBHT       8      12   42 +421% |    71    74      52     3:3   +1.4%   |                                                IC90\n",
      "   UAL      19      28   50 +156% |    75    74      57    4:2↑   +4.3%   |             IC90 + BIAS↑ (4:2↑ breaks, +4.3% drift)\n",
      "   SYF      19      24   40 +110% |    75    74      65    5:1↑   +7.9%   | IC90⚠↑ + BIAS↑ (65% bias, 5:1↑ breaks, +7.9% drift)\n",
      "    BK       8      14   29 +248% |    71    70      65    5:2↑   +4.3%   |   IC90 + BIAS↑ (65% bias, 5:2↑ breaks, +4.3% drift)\n",
      "   KEY      14      20   29 +101% |    71    74      61    4:2↑   +3.7%   |             IC90 + BIAS↑ (4:2↑ breaks, +3.7% drift)\n",
      "   MTB      11      17   31 +184% |    71    74      65     3:3   +2.6%   |                             IC90 + BIAS↑ (65% bias)\n",
      "   MMC       7       9   26 +239% |    71    74      70    4:2↑   +3.4%   |   IC90 + BIAS↑ (70% bias, 4:2↑ breaks, +3.4% drift)\n",
      "   SNA      13      13   30 +117% |    71    74      61    4:2↑   +3.7%   |             IC90 + BIAS↑ (4:2↑ breaks, +3.7% drift)\n",
      "  SCHW      12      20   31 +152% |    75    74      65    4:2↑   +5.3%   |   IC90 + BIAS↑ (65% bias, 4:2↑ breaks, +5.3% drift)\n",
      "   TRV       8      11   27 +209% |    75    74      61    4:2↑   +4.0%   |             IC90 + BIAS↑ (4:2↑ breaks, +4.0% drift)\n",
      "   USB       8      15   28 +218% |    75    74      61     3:3   +0.6%   |                                                IC90\n",
      "   CSX       8      11   30 +258% |    75    74      65    4:2↑   +2.7%   |                IC90 + BIAS↑ (65% bias, 4:2↑ breaks)\n",
      "   AXP      13      16   32 +135% |    71    74      74    5:1↑   +5.8%   | IC90⚠↑ + BIAS↑ (74% bias, 5:1↑ breaks, +5.8% drift)\n",
      "  HBAN      15      18   45 +198% |    71    74      61     3:3   +1.9%   |                                                IC90\n",
      "  FITB      13      19   29 +126% |    75    74      57    4:2↑   +3.3%   |             IC90 + BIAS↑ (4:2↑ breaks, +3.3% drift)\n",
      "   SLB      16      23   42 +163% |    75    74      61    5:1↑   +3.7%   |           IC90⚠↑ + BIAS↑ (5:1↑ breaks, +3.7% drift)\n",
      "   STT      11      17   34 +199% |    75    74      61     3:3   +2.5%   |                                                IC90\n",
      "   TFC      13      15   26  +98% |    75    74      57     3:3   +0.4%   |                                                IC90\n",
      "  STLD      14      20   38 +171% |    75    74      65    4:2↑   +9.8%   |   IC90 + BIAS↑ (65% bias, 4:2↑ breaks, +9.8% drift)\n",
      "    RF      10      18   30 +181% |    71    74      61    4:2↑   +3.7%   |             IC90 + BIAS↑ (4:2↑ breaks, +3.7% drift)\n",
      "\n",
      "==============================================================================================================\n",
      "KEY TAKEAWAYS:\n",
      "==============================================================================================================\n",
      "\n",
      "📊 Pattern Summary: 38 IC candidates | 30 Upward bias | 0 Downward bias | 0 No edge\n",
      "\n",
      "⚠️  Asymmetric ICs:\n",
      "  Upside risk: FAST, BLK, GS, ABT, PGR, SYF, AXP, SLB\n",
      "\n",
      "📈 Strong Directional Signals:\n",
      "  JPM: 70% bias ↑, 4:2↑ breaks, +4.7% drift\n",
      "  MS: 70% bias ↑, 5:2↑ breaks, +5.9% drift\n",
      "  PGR: 70% bias ↑, 6:0↑ breaks, +6.0% drift\n",
      "  PNC: 70% bias ↑, 3:3 breaks, +4.3% drift\n",
      "  MMC: 70% bias ↑, 4:2↑ breaks, +3.4% drift\n",
      "  AXP: 74% bias ↑, 5:1↑ breaks, +5.8% drift\n",
      "\n",
      "💡 Remember: Past patterns ≠ Future results. IV context shows current opportunity cost.\n",
      "\n",
      "✓ Quality matrix saved to quality_matrix_full.html\n"
     ]
    },
    {
     "data": {
      "application/vnd.plotly.v1+json": {
       "config": {
        "plotlyServerURL": "https://plot.ly"
       },
       "data": [
        {
         "hovertemplate": [
          "<b>%{text}</b><br>IV Premium: %{x:.1f}%<br>90d Containment: %{y:.1f}%<br>Strategy: IC90 + BIAS↑ (67% bias, +3.5% drift)<br><extra></extra>",
          "<b>%{text}</b><br>IV Premium: %{x:.1f}%<br>90d Containment: %{y:.1f}%<br>Strategy: IC90⚠↑ + BIAS↑ (5:1↑ breaks, +4.0% drift)<br><extra></extra>",
          "<b>%{text}</b><br>IV Premium: %{x:.1f}%<br>90d Containment: %{y:.1f}%<br>Strategy: IC90⚠↑ + BIAS↑ (6:0↑ breaks, +4.9% drift)<br><extra></extra>",
          "<b>%{text}</b><br>IV Premium: %{x:.1f}%<br>90d Containment: %{y:.1f}%<br>Strategy: IC90 + BIAS↑ (65% bias)<br><extra></extra>",
          "<b>%{text}</b><br>IV Premium: %{x:.1f}%<br>90d Containment: %{y:.1f}%<br>Strategy: IC90<br><extra></extra>",
          "<b>%{text}</b><br>IV Premium: %{x:.1f}%<br>90d Containment: %{y:.1f}%<br>Strategy: IC90 + BIAS↑ (4:2↑ breaks)<br><extra></extra>",
          "<b>%{text}</b><br>IV Premium: %{x:.1f}%<br>90d Containment: %{y:.1f}%<br>Strategy: IC90⚠↑ + BIAS↑ (5:1↑ breaks, +6.6% drift)<br><extra></extra>",
          "<b>%{text}</b><br>IV Premium: %{x:.1f}%<br>90d Containment: %{y:.1f}%<br>Strategy: IC90 + BIAS↑ (4:2↑ breaks)<br><extra></extra>",
          "<b>%{text}</b><br>IV Premium: %{x:.1f}%<br>90d Containment: %{y:.1f}%<br>Strategy: IC90 + BIAS↑ (70% bias, 4:2↑ breaks, +4.7% drift)<br><extra></extra>",
          "<b>%{text}</b><br>IV Premium: %{x:.1f}%<br>90d Containment: %{y:.1f}%<br>Strategy: IC90⚠↑ + BIAS↑ (5:1↑ breaks)<br><extra></extra>",
          "<b>%{text}</b><br>IV Premium: %{x:.1f}%<br>90d Containment: %{y:.1f}%<br>Strategy: IC90<br><extra></extra>",
          "<b>%{text}</b><br>IV Premium: %{x:.1f}%<br>90d Containment: %{y:.1f}%<br>Strategy: IC90 + BIAS↑ (65% bias, 4:2↑ breaks, +4.6% drift)<br><extra></extra>",
          "<b>%{text}</b><br>IV Premium: %{x:.1f}%<br>90d Containment: %{y:.1f}%<br>Strategy: IC90 + BIAS↑ (+3.1% drift)<br><extra></extra>",
          "<b>%{text}</b><br>IV Premium: %{x:.1f}%<br>90d Containment: %{y:.1f}%<br>Strategy: IC90 + BIAS↑ (70% bias, 5:2↑ breaks, +5.9% drift)<br><extra></extra>",
          "<b>%{text}</b><br>IV Premium: %{x:.1f}%<br>90d Containment: %{y:.1f}%<br>Strategy: IC90⚠↑ + BIAS↑ (70% bias, 6:0↑ breaks, +6.0% drift)<br><extra></extra>",
          "<b>%{text}</b><br>IV Premium: %{x:.1f}%<br>90d Containment: %{y:.1f}%<br>Strategy: IC90 + BIAS↑ (65% bias, +3.1% drift)<br><extra></extra>",
          "<b>%{text}</b><br>IV Premium: %{x:.1f}%<br>90d Containment: %{y:.1f}%<br>Strategy: IC90<br><extra></extra>",
          "<b>%{text}</b><br>IV Premium: %{x:.1f}%<br>90d Containment: %{y:.1f}%<br>Strategy: IC90 + BIAS↑ (70% bias, +4.3% drift)<br><extra></extra>",
          "<b>%{text}</b><br>IV Premium: %{x:.1f}%<br>90d Containment: %{y:.1f}%<br>Strategy: IC90<br><extra></extra>",
          "<b>%{text}</b><br>IV Premium: %{x:.1f}%<br>90d Containment: %{y:.1f}%<br>Strategy: IC90 + BIAS↑ (4:2↑ breaks, +4.3% drift)<br><extra></extra>",
          "<b>%{text}</b><br>IV Premium: %{x:.1f}%<br>90d Containment: %{y:.1f}%<br>Strategy: IC90⚠↑ + BIAS↑ (65% bias, 5:1↑ breaks, +7.9% drift)<br><extra></extra>",
          "<b>%{text}</b><br>IV Premium: %{x:.1f}%<br>90d Containment: %{y:.1f}%<br>Strategy: IC90 + BIAS↑ (65% bias, 5:2↑ breaks, +4.3% drift)<br><extra></extra>",
          "<b>%{text}</b><br>IV Premium: %{x:.1f}%<br>90d Containment: %{y:.1f}%<br>Strategy: IC90 + BIAS↑ (4:2↑ breaks, +3.7% drift)<br><extra></extra>",
          "<b>%{text}</b><br>IV Premium: %{x:.1f}%<br>90d Containment: %{y:.1f}%<br>Strategy: IC90 + BIAS↑ (65% bias)<br><extra></extra>",
          "<b>%{text}</b><br>IV Premium: %{x:.1f}%<br>90d Containment: %{y:.1f}%<br>Strategy: IC90 + BIAS↑ (70% bias, 4:2↑ breaks, +3.4% drift)<br><extra></extra>",
          "<b>%{text}</b><br>IV Premium: %{x:.1f}%<br>90d Containment: %{y:.1f}%<br>Strategy: IC90 + BIAS↑ (4:2↑ breaks, +3.7% drift)<br><extra></extra>",
          "<b>%{text}</b><br>IV Premium: %{x:.1f}%<br>90d Containment: %{y:.1f}%<br>Strategy: IC90 + BIAS↑ (65% bias, 4:2↑ breaks, +5.3% drift)<br><extra></extra>",
          "<b>%{text}</b><br>IV Premium: %{x:.1f}%<br>90d Containment: %{y:.1f}%<br>Strategy: IC90 + BIAS↑ (4:2↑ breaks, +4.0% drift)<br><extra></extra>",
          "<b>%{text}</b><br>IV Premium: %{x:.1f}%<br>90d Containment: %{y:.1f}%<br>Strategy: IC90<br><extra></extra>",
          "<b>%{text}</b><br>IV Premium: %{x:.1f}%<br>90d Containment: %{y:.1f}%<br>Strategy: IC90 + BIAS↑ (65% bias, 4:2↑ breaks)<br><extra></extra>",
          "<b>%{text}</b><br>IV Premium: %{x:.1f}%<br>90d Containment: %{y:.1f}%<br>Strategy: IC90⚠↑ + BIAS↑ (74% bias, 5:1↑ breaks, +5.8% drift)<br><extra></extra>",
          "<b>%{text}</b><br>IV Premium: %{x:.1f}%<br>90d Containment: %{y:.1f}%<br>Strategy: IC90<br><extra></extra>",
          "<b>%{text}</b><br>IV Premium: %{x:.1f}%<br>90d Containment: %{y:.1f}%<br>Strategy: IC90 + BIAS↑ (4:2↑ breaks, +3.3% drift)<br><extra></extra>",
          "<b>%{text}</b><br>IV Premium: %{x:.1f}%<br>90d Containment: %{y:.1f}%<br>Strategy: IC90⚠↑ + BIAS↑ (5:1↑ breaks, +3.7% drift)<br><extra></extra>",
          "<b>%{text}</b><br>IV Premium: %{x:.1f}%<br>90d Containment: %{y:.1f}%<br>Strategy: IC90<br><extra></extra>",
          "<b>%{text}</b><br>IV Premium: %{x:.1f}%<br>90d Containment: %{y:.1f}%<br>Strategy: IC90<br><extra></extra>",
          "<b>%{text}</b><br>IV Premium: %{x:.1f}%<br>90d Containment: %{y:.1f}%<br>Strategy: IC90 + BIAS↑ (65% bias, 4:2↑ breaks, +9.8% drift)<br><extra></extra>",
          "<b>%{text}</b><br>IV Premium: %{x:.1f}%<br>90d Containment: %{y:.1f}%<br>Strategy: IC90 + BIAS↑ (4:2↑ breaks, +3.7% drift)<br><extra></extra>"
         ],
         "marker": {
          "color": "green",
          "line": {
           "color": "darkgreen",
           "width": 1
          },
          "opacity": 0.7,
          "size": 12
         },
         "mode": "markers+text",
         "name": "Iron Condor",
         "text": [
          "DAL",
          "FAST",
          "BLK",
          "PEP",
          "C",
          "DPZ",
          "GS",
          "JNJ",
          "JPM",
          "ABT",
          "OMC",
          "WFC",
          "BAC",
          "MS",
          "PGR",
          "CFG",
          "PLD",
          "PNC",
          "JBHT",
          "UAL",
          "SYF",
          "BK",
          "KEY",
          "MTB",
          "MMC",
          "SNA",
          "SCHW",
          "TRV",
          "USB",
          "CSX",
          "AXP",
          "HBAN",
          "FITB",
          "SLB",
          "STT",
          "TFC",
          "STLD",
          "RF"
         ],
         "textfont": {
          "color": "darkgreen",
          "size": 9
         },
         "textposition": "top center",
         "type": "scatter",
         "x": [
          173.5,
          327.4,
          182.8,
          362.3,
          201,
          385.2,
          272.5,
          356.6,
          260.8,
          191.7,
          190.1,
          198,
          221.6,
          179.6,
          326.8,
          161.1,
          257.5,
          149,
          420.7,
          155.6,
          110.4,
          248.2,
          100.7,
          183.8,
          239.2,
          117.3,
          151.6,
          209,
          218.2,
          258.1,
          135.3,
          198,
          126.2,
          163.4,
          199.1,
          98.5,
          170.6,
          180.6
         ],
         "y": [
          75,
          74,
          74,
          74,
          74,
          74,
          74,
          74,
          74,
          74,
          70,
          74,
          70,
          70,
          74,
          74,
          74,
          74,
          74,
          74,
          74,
          70,
          74,
          74,
          74,
          74,
          74,
          74,
          74,
          74,
          74,
          74,
          74,
          74,
          74,
          74,
          74,
          74
         ]
        }
       ],
       "layout": {
        "annotations": [
         {
          "font": {
           "color": "gray",
           "size": 10,
           "style": "italic"
          },
          "showarrow": false,
          "text": "Gold Zone = Top-right quadrant (High Containment + Rich Premium)",
          "x": 1,
          "xanchor": "right",
          "xref": "paper",
          "y": -0.1,
          "yanchor": "top",
          "yref": "paper"
         }
        ],
        "height": 700,
        "hovermode": "closest",
        "legend": {
         "x": 1,
         "xanchor": "right",
         "y": 0,
         "yanchor": "bottom"
        },
        "plot_bgcolor": "white",
        "shapes": [
         {
          "line": {
           "color": "red",
           "dash": "dash"
          },
          "opacity": 0.3,
          "type": "line",
          "x0": 0,
          "x1": 1,
          "xref": "x domain",
          "y0": 70,
          "y1": 70,
          "yref": "y"
         },
         {
          "line": {
           "color": "red",
           "dash": "dash"
          },
          "opacity": 0.3,
          "type": "line",
          "x0": 15,
          "x1": 15,
          "xref": "x",
          "y0": 0,
          "y1": 1,
          "yref": "y domain"
         }
        ],
        "template": {
         "data": {
          "bar": [
           {
            "error_x": {
             "color": "#2a3f5f"
            },
            "error_y": {
             "color": "#2a3f5f"
            },
            "marker": {
             "line": {
              "color": "#E5ECF6",
              "width": 0.5
             },
             "pattern": {
              "fillmode": "overlay",
              "size": 10,
              "solidity": 0.2
             }
            },
            "type": "bar"
           }
          ],
          "barpolar": [
           {
            "marker": {
             "line": {
              "color": "#E5ECF6",
              "width": 0.5
             },
             "pattern": {
              "fillmode": "overlay",
              "size": 10,
              "solidity": 0.2
             }
            },
            "type": "barpolar"
           }
          ],
          "carpet": [
           {
            "aaxis": {
             "endlinecolor": "#2a3f5f",
             "gridcolor": "white",
             "linecolor": "white",
             "minorgridcolor": "white",
             "startlinecolor": "#2a3f5f"
            },
            "baxis": {
             "endlinecolor": "#2a3f5f",
             "gridcolor": "white",
             "linecolor": "white",
             "minorgridcolor": "white",
             "startlinecolor": "#2a3f5f"
            },
            "type": "carpet"
           }
          ],
          "choropleth": [
           {
            "colorbar": {
             "outlinewidth": 0,
             "ticks": ""
            },
            "type": "choropleth"
           }
          ],
          "contour": [
           {
            "colorbar": {
             "outlinewidth": 0,
             "ticks": ""
            },
            "colorscale": [
             [
              0,
              "#0d0887"
             ],
             [
              0.1111111111111111,
              "#46039f"
             ],
             [
              0.2222222222222222,
              "#7201a8"
             ],
             [
              0.3333333333333333,
              "#9c179e"
             ],
             [
              0.4444444444444444,
              "#bd3786"
             ],
             [
              0.5555555555555556,
              "#d8576b"
             ],
             [
              0.6666666666666666,
              "#ed7953"
             ],
             [
              0.7777777777777778,
              "#fb9f3a"
             ],
             [
              0.8888888888888888,
              "#fdca26"
             ],
             [
              1,
              "#f0f921"
             ]
            ],
            "type": "contour"
           }
          ],
          "contourcarpet": [
           {
            "colorbar": {
             "outlinewidth": 0,
             "ticks": ""
            },
            "type": "contourcarpet"
           }
          ],
          "heatmap": [
           {
            "colorbar": {
             "outlinewidth": 0,
             "ticks": ""
            },
            "colorscale": [
             [
              0,
              "#0d0887"
             ],
             [
              0.1111111111111111,
              "#46039f"
             ],
             [
              0.2222222222222222,
              "#7201a8"
             ],
             [
              0.3333333333333333,
              "#9c179e"
             ],
             [
              0.4444444444444444,
              "#bd3786"
             ],
             [
              0.5555555555555556,
              "#d8576b"
             ],
             [
              0.6666666666666666,
              "#ed7953"
             ],
             [
              0.7777777777777778,
              "#fb9f3a"
             ],
             [
              0.8888888888888888,
              "#fdca26"
             ],
             [
              1,
              "#f0f921"
             ]
            ],
            "type": "heatmap"
           }
          ],
          "heatmapgl": [
           {
            "colorbar": {
             "outlinewidth": 0,
             "ticks": ""
            },
            "colorscale": [
             [
              0,
              "#0d0887"
             ],
             [
              0.1111111111111111,
              "#46039f"
             ],
             [
              0.2222222222222222,
              "#7201a8"
             ],
             [
              0.3333333333333333,
              "#9c179e"
             ],
             [
              0.4444444444444444,
              "#bd3786"
             ],
             [
              0.5555555555555556,
              "#d8576b"
             ],
             [
              0.6666666666666666,
              "#ed7953"
             ],
             [
              0.7777777777777778,
              "#fb9f3a"
             ],
             [
              0.8888888888888888,
              "#fdca26"
             ],
             [
              1,
              "#f0f921"
             ]
            ],
            "type": "heatmapgl"
           }
          ],
          "histogram": [
           {
            "marker": {
             "pattern": {
              "fillmode": "overlay",
              "size": 10,
              "solidity": 0.2
             }
            },
            "type": "histogram"
           }
          ],
          "histogram2d": [
           {
            "colorbar": {
             "outlinewidth": 0,
             "ticks": ""
            },
            "colorscale": [
             [
              0,
              "#0d0887"
             ],
             [
              0.1111111111111111,
              "#46039f"
             ],
             [
              0.2222222222222222,
              "#7201a8"
             ],
             [
              0.3333333333333333,
              "#9c179e"
             ],
             [
              0.4444444444444444,
              "#bd3786"
             ],
             [
              0.5555555555555556,
              "#d8576b"
             ],
             [
              0.6666666666666666,
              "#ed7953"
             ],
             [
              0.7777777777777778,
              "#fb9f3a"
             ],
             [
              0.8888888888888888,
              "#fdca26"
             ],
             [
              1,
              "#f0f921"
             ]
            ],
            "type": "histogram2d"
           }
          ],
          "histogram2dcontour": [
           {
            "colorbar": {
             "outlinewidth": 0,
             "ticks": ""
            },
            "colorscale": [
             [
              0,
              "#0d0887"
             ],
             [
              0.1111111111111111,
              "#46039f"
             ],
             [
              0.2222222222222222,
              "#7201a8"
             ],
             [
              0.3333333333333333,
              "#9c179e"
             ],
             [
              0.4444444444444444,
              "#bd3786"
             ],
             [
              0.5555555555555556,
              "#d8576b"
             ],
             [
              0.6666666666666666,
              "#ed7953"
             ],
             [
              0.7777777777777778,
              "#fb9f3a"
             ],
             [
              0.8888888888888888,
              "#fdca26"
             ],
             [
              1,
              "#f0f921"
             ]
            ],
            "type": "histogram2dcontour"
           }
          ],
          "mesh3d": [
           {
            "colorbar": {
             "outlinewidth": 0,
             "ticks": ""
            },
            "type": "mesh3d"
           }
          ],
          "parcoords": [
           {
            "line": {
             "colorbar": {
              "outlinewidth": 0,
              "ticks": ""
             }
            },
            "type": "parcoords"
           }
          ],
          "pie": [
           {
            "automargin": true,
            "type": "pie"
           }
          ],
          "scatter": [
           {
            "fillpattern": {
             "fillmode": "overlay",
             "size": 10,
             "solidity": 0.2
            },
            "type": "scatter"
           }
          ],
          "scatter3d": [
           {
            "line": {
             "colorbar": {
              "outlinewidth": 0,
              "ticks": ""
             }
            },
            "marker": {
             "colorbar": {
              "outlinewidth": 0,
              "ticks": ""
             }
            },
            "type": "scatter3d"
           }
          ],
          "scattercarpet": [
           {
            "marker": {
             "colorbar": {
              "outlinewidth": 0,
              "ticks": ""
             }
            },
            "type": "scattercarpet"
           }
          ],
          "scattergeo": [
           {
            "marker": {
             "colorbar": {
              "outlinewidth": 0,
              "ticks": ""
             }
            },
            "type": "scattergeo"
           }
          ],
          "scattergl": [
           {
            "marker": {
             "colorbar": {
              "outlinewidth": 0,
              "ticks": ""
             }
            },
            "type": "scattergl"
           }
          ],
          "scattermapbox": [
           {
            "marker": {
             "colorbar": {
              "outlinewidth": 0,
              "ticks": ""
             }
            },
            "type": "scattermapbox"
           }
          ],
          "scatterpolar": [
           {
            "marker": {
             "colorbar": {
              "outlinewidth": 0,
              "ticks": ""
             }
            },
            "type": "scatterpolar"
           }
          ],
          "scatterpolargl": [
           {
            "marker": {
             "colorbar": {
              "outlinewidth": 0,
              "ticks": ""
             }
            },
            "type": "scatterpolargl"
           }
          ],
          "scatterternary": [
           {
            "marker": {
             "colorbar": {
              "outlinewidth": 0,
              "ticks": ""
             }
            },
            "type": "scatterternary"
           }
          ],
          "surface": [
           {
            "colorbar": {
             "outlinewidth": 0,
             "ticks": ""
            },
            "colorscale": [
             [
              0,
              "#0d0887"
             ],
             [
              0.1111111111111111,
              "#46039f"
             ],
             [
              0.2222222222222222,
              "#7201a8"
             ],
             [
              0.3333333333333333,
              "#9c179e"
             ],
             [
              0.4444444444444444,
              "#bd3786"
             ],
             [
              0.5555555555555556,
              "#d8576b"
             ],
             [
              0.6666666666666666,
              "#ed7953"
             ],
             [
              0.7777777777777778,
              "#fb9f3a"
             ],
             [
              0.8888888888888888,
              "#fdca26"
             ],
             [
              1,
              "#f0f921"
             ]
            ],
            "type": "surface"
           }
          ],
          "table": [
           {
            "cells": {
             "fill": {
              "color": "#EBF0F8"
             },
             "line": {
              "color": "white"
             }
            },
            "header": {
             "fill": {
              "color": "#C8D4E3"
             },
             "line": {
              "color": "white"
             }
            },
            "type": "table"
           }
          ]
         },
         "layout": {
          "annotationdefaults": {
           "arrowcolor": "#2a3f5f",
           "arrowhead": 0,
           "arrowwidth": 1
          },
          "autotypenumbers": "strict",
          "coloraxis": {
           "colorbar": {
            "outlinewidth": 0,
            "ticks": ""
           }
          },
          "colorscale": {
           "diverging": [
            [
             0,
             "#8e0152"
            ],
            [
             0.1,
             "#c51b7d"
            ],
            [
             0.2,
             "#de77ae"
            ],
            [
             0.3,
             "#f1b6da"
            ],
            [
             0.4,
             "#fde0ef"
            ],
            [
             0.5,
             "#f7f7f7"
            ],
            [
             0.6,
             "#e6f5d0"
            ],
            [
             0.7,
             "#b8e186"
            ],
            [
             0.8,
             "#7fbc41"
            ],
            [
             0.9,
             "#4d9221"
            ],
            [
             1,
             "#276419"
            ]
           ],
           "sequential": [
            [
             0,
             "#0d0887"
            ],
            [
             0.1111111111111111,
             "#46039f"
            ],
            [
             0.2222222222222222,
             "#7201a8"
            ],
            [
             0.3333333333333333,
             "#9c179e"
            ],
            [
             0.4444444444444444,
             "#bd3786"
            ],
            [
             0.5555555555555556,
             "#d8576b"
            ],
            [
             0.6666666666666666,
             "#ed7953"
            ],
            [
             0.7777777777777778,
             "#fb9f3a"
            ],
            [
             0.8888888888888888,
             "#fdca26"
            ],
            [
             1,
             "#f0f921"
            ]
           ],
           "sequentialminus": [
            [
             0,
             "#0d0887"
            ],
            [
             0.1111111111111111,
             "#46039f"
            ],
            [
             0.2222222222222222,
             "#7201a8"
            ],
            [
             0.3333333333333333,
             "#9c179e"
            ],
            [
             0.4444444444444444,
             "#bd3786"
            ],
            [
             0.5555555555555556,
             "#d8576b"
            ],
            [
             0.6666666666666666,
             "#ed7953"
            ],
            [
             0.7777777777777778,
             "#fb9f3a"
            ],
            [
             0.8888888888888888,
             "#fdca26"
            ],
            [
             1,
             "#f0f921"
            ]
           ]
          },
          "colorway": [
           "#636efa",
           "#EF553B",
           "#00cc96",
           "#ab63fa",
           "#FFA15A",
           "#19d3f3",
           "#FF6692",
           "#B6E880",
           "#FF97FF",
           "#FECB52"
          ],
          "font": {
           "color": "#2a3f5f"
          },
          "geo": {
           "bgcolor": "white",
           "lakecolor": "white",
           "landcolor": "#E5ECF6",
           "showlakes": true,
           "showland": true,
           "subunitcolor": "white"
          },
          "hoverlabel": {
           "align": "left"
          },
          "hovermode": "closest",
          "mapbox": {
           "style": "light"
          },
          "paper_bgcolor": "white",
          "plot_bgcolor": "#E5ECF6",
          "polar": {
           "angularaxis": {
            "gridcolor": "white",
            "linecolor": "white",
            "ticks": ""
           },
           "bgcolor": "#E5ECF6",
           "radialaxis": {
            "gridcolor": "white",
            "linecolor": "white",
            "ticks": ""
           }
          },
          "scene": {
           "xaxis": {
            "backgroundcolor": "#E5ECF6",
            "gridcolor": "white",
            "gridwidth": 2,
            "linecolor": "white",
            "showbackground": true,
            "ticks": "",
            "zerolinecolor": "white"
           },
           "yaxis": {
            "backgroundcolor": "#E5ECF6",
            "gridcolor": "white",
            "gridwidth": 2,
            "linecolor": "white",
            "showbackground": true,
            "ticks": "",
            "zerolinecolor": "white"
           },
           "zaxis": {
            "backgroundcolor": "#E5ECF6",
            "gridcolor": "white",
            "gridwidth": 2,
            "linecolor": "white",
            "showbackground": true,
            "ticks": "",
            "zerolinecolor": "white"
           }
          },
          "shapedefaults": {
           "line": {
            "color": "#2a3f5f"
           }
          },
          "ternary": {
           "aaxis": {
            "gridcolor": "white",
            "linecolor": "white",
            "ticks": ""
           },
           "baxis": {
            "gridcolor": "white",
            "linecolor": "white",
            "ticks": ""
           },
           "bgcolor": "#E5ECF6",
           "caxis": {
            "gridcolor": "white",
            "linecolor": "white",
            "ticks": ""
           }
          },
          "title": {
           "x": 0.05
          },
          "xaxis": {
           "automargin": true,
           "gridcolor": "white",
           "linecolor": "white",
           "ticks": "",
           "title": {
            "standoff": 15
           },
           "zerolinecolor": "white",
           "zerolinewidth": 2
          },
          "yaxis": {
           "automargin": true,
           "gridcolor": "white",
           "linecolor": "white",
           "ticks": "",
           "title": {
            "standoff": 15
           },
           "zerolinecolor": "white",
           "zerolinewidth": 2
          }
         }
        },
        "title": {
         "font": {
          "color": "black",
          "size": 18
         },
         "text": "Trade Quality Matrix - Earnings Plays",
         "x": 0.5,
         "xanchor": "center"
        },
        "width": 1200,
        "xaxis": {
         "autorange": true,
         "range": [
          14.585809086268505,
          445.34435936702397
         ],
         "showgrid": false,
         "title": {
          "text": "IV Premium (%)"
         },
         "type": "linear",
         "zeroline": true
        },
        "yaxis": {
         "autorange": true,
         "range": [
          69.63024282560707,
          75.36975717439293
         ],
         "showgrid": false,
         "title": {
          "text": "Containment Rate (%)"
         },
         "type": "linear",
         "zeroline": false
        }
       }
      },
      "image/png": "[encoded data removed]",
      "text/html": [
       "<div>                            <div id=\"1da45d31-f462-4bb6-a7eb-553302505cb5\" class=\"plotly-graph-div\" style=\"height:700px; width:1200px;\"></div>            <script type=\"text/javascript\">                require([\"plotly\"], function(Plotly) {                    window.PLOTLYENV=window.PLOTLYENV || {};                                    if (document.getElementById(\"1da45d31-f462-4bb6-a7eb-553302505cb5\")) {                    Plotly.newPlot(                        \"1da45d31-f462-4bb6-a7eb-553302505cb5\",                        [{\"hovertemplate\":[\"\\u003cb\\u003e%{text}\\u003c\\u002fb\\u003e\\u003cbr\\u003eIV Premium: %{x:.1f}%\\u003cbr\\u003e90d Containment: %{y:.1f}%\\u003cbr\\u003eStrategy: IC90 + BIAS\\u2191 (67% bias, +3.5% drift)\\u003cbr\\u003e\\u003cextra\\u003e\\u003c\\u002fextra\\u003e\",\"\\u003cb\\u003e%{text}\\u003c\\u002fb\\u003e\\u003cbr\\u003eIV Premium: %{x:.1f}%\\u003cbr\\u003e90d Containment: %{y:.1f}%\\u003cbr\\u003eStrategy: IC90\\u26a0\\u2191 + BIAS\\u2191 (5:1\\u2191 breaks, +4.0% drift)\\u003cbr\\u003e\\u003cextra\\u003e\\u003c\\u002fextra\\u003e\",\"\\u003cb\\u003e%{text}\\u003c\\u002fb\\u003e\\u003cbr\\u003eIV Premium: %{x:.1f}%\\u003cbr\\u003e90d Containment: %{y:.1f}%\\u003cbr\\u003eStrategy: IC90\\u26a0\\u2191 + BIAS\\u2191 (6:0\\u2191 breaks, +4.9% drift)\\u003cbr\\u003e\\u003cextra\\u003e\\u003c\\u002fextra\\u003e\",\"\\u003cb\\u003e%{text}\\u003c\\u002fb\\u003e\\u003cbr\\u003eIV Premium: %{x:.1f}%\\u003cbr\\u003e90d Containment: %{y:.1f}%\\u003cbr\\u003eStrategy: IC90 + BIAS\\u2191 (65% bias)\\u003cbr\\u003e\\u003cextra\\u003e\\u003c\\u002fextra\\u003e\",\"\\u003cb\\u003e%{text}\\u003c\\u002fb\\u003e\\u003cbr\\u003eIV Premium: %{x:.1f}%\\u003cbr\\u003e90d Containment: %{y:.1f}%\\u003cbr\\u003eStrategy: IC90\\u003cbr\\u003e\\u003cextra\\u003e\\u003c\\u002fextra\\u003e\",\"\\u003cb\\u003e%{text}\\u003c\\u002fb\\u003e\\u003cbr\\u003eIV Premium: %{x:.1f}%\\u003cbr\\u003e90d Containment: %{y:.1f}%\\u003cbr\\u003eStrategy: IC90 + BIAS\\u2191 (4:2\\u2191 breaks)\\u003cbr\\u003e\\u003cextra\\u003e\\u003c\\u002fextra\\u003e\",\"\\u003cb\\u003e%{text}\\u003c\\u002fb\\u003e\\u003cbr\\u003eIV Premium: %{x:.1f}%\\u003cbr\\u003e90d Containment: %{y:.1f}%\\u003cbr\\u003eStrategy: IC90\\u26a0\\u2191 + BIAS\\u2191 (5:1\\u2191 breaks, +6.6% drift)\\u003cbr\\u003e\\u003cextra\\u003e\\u003c\\u002fextra\\u003e\",\"\\u003cb\\u003e%{text}\\u003c\\u002fb\\u003e\\u003cbr\\u003eIV Premium: %{x:.1f}%\\u003cbr\\u003e90d Containment: %{y:.1f}%\\u003cbr\\u003eStrategy: IC90 + BIAS\\u2191 (4:2\\u2191 breaks)\\u003cbr\\u003e\\u003cextra\\u003e\\u003c\\u002fextra\\u003e\",\"\\u003cb\\u003e%{text}\\u003c\\u002fb\\u003e\\u003cbr\\u003eIV Premium: %{x:.1f}%\\u003cbr\\u003e90d Containment: %{y:.1f}%\\u003cbr\\u003eStrategy: IC90 + BIAS\\u2191 (70% bias, 4:2\\u2191 breaks, +4.7% drift)\\u003cbr\\u003e\\u003cextra\\u003e\\u003c\\u002fextra\\u003e\",\"\\u003cb\\u003e%{text}\\u003c\\u002fb\\u003e\\u003cbr\\u003eIV Premium: %{x:.1f}%\\u003cbr\\u003e90d Containment: %{y:.1f}%\\u003cbr\\u003eStrategy: IC90\\u26a0\\u2191 + BIAS\\u2191 (5:1\\u2191 breaks)\\u003cbr\\u003e\\u003cextra\\u003e\\u003c\\u002fextra\\u003e\",\"\\u003cb\\u003e%{text}\\u003c\\u002fb\\u003e\\u003cbr\\u003eIV Premium: %{x:.1f}%\\u003cbr\\u003e90d Containment: %{y:.1f}%\\u003cbr\\u003eStrategy: IC90\\u003cbr\\u003e\\u003cextra\\u003e\\u003c\\u002fextra\\u003e\",\"\\u003cb\\u003e%{text}\\u003c\\u002fb\\u003e\\u003cbr\\u003eIV Premium: %{x:.1f}%\\u003cbr\\u003e90d Containment: %{y:.1f}%\\u003cbr\\u003eStrategy: IC90 + BIAS\\u2191 (65% bias, 4:2\\u2191 breaks, +4.6% drift)\\u003cbr\\u003e\\u003cextra\\u003e\\u003c\\u002fextra\\u003e\",\"\\u003cb\\u003e%{text}\\u003c\\u002fb\\u003e\\u003cbr\\u003eIV Premium: %{x:.1f}%\\u003cbr\\u003e90d Containment: %{y:.1f}%\\u003cbr\\u003eStrategy: IC90 + BIAS\\u2191 (+3.1% drift)\\u003cbr\\u003e\\u003cextra\\u003e\\u003c\\u002fextra\\u003e\",\"\\u003cb\\u003e%{text}\\u003c\\u002fb\\u003e\\u003cbr\\u003eIV Premium: %{x:.1f}%\\u003cbr\\u003e90d Containment: %{y:.1f}%\\u003cbr\\u003eStrategy: IC90 + BIAS\\u2191 (70% bias, 5:2\\u2191 breaks, +5.9% drift)\\u003cbr\\u003e\\u003cextra\\u003e\\u003c\\u002fextra\\u003e\",\"\\u003cb\\u003e%{text}\\u003c\\u002fb\\u003e\\u003cbr\\u003eIV Premium: %{x:.1f}%\\u003cbr\\u003e90d Containment: %{y:.1f}%\\u003cbr\\u003eStrategy: IC90\\u26a0\\u2191 + BIAS\\u2191 (70% bias, 6:0\\u2191 breaks, +6.0% drift)\\u003cbr\\u003e\\u003cextra\\u003e\\u003c\\u002fextra\\u003e\",\"\\u003cb\\u003e%{text}\\u003c\\u002fb\\u003e\\u003cbr\\u003eIV Premium: %{x:.1f}%\\u003cbr\\u003e90d Containment: %{y:.1f}%\\u003cbr\\u003eStrategy: IC90 + BIAS\\u2191 (65% bias, +3.1% drift)\\u003cbr\\u003e\\u003cextra\\u003e\\u003c\\u002fextra\\u003e\",\"\\u003cb\\u003e%{text}\\u003c\\u002fb\\u003e\\u003cbr\\u003eIV Premium: %{x:.1f}%\\u003cbr\\u003e90d Containment: %{y:.1f}%\\u003cbr\\u003eStrategy: IC90\\u003cbr\\u003e\\u003cextra\\u003e\\u003c\\u002fextra\\u003e\",\"\\u003cb\\u003e%{text}\\u003c\\u002fb\\u003e\\u003cbr\\u003eIV Premium: %{x:.1f}%\\u003cbr\\u003e90d Containment: %{y:.1f}%\\u003cbr\\u003eStrategy: IC90 + BIAS\\u2191 (70% bias, +4.3% drift)\\u003cbr\\u003e\\u003cextra\\u003e\\u003c\\u002fextra\\u003e\",\"\\u003cb\\u003e%{text}\\u003c\\u002fb\\u003e\\u003cbr\\u003eIV Premium: %{x:.1f}%\\u003cbr\\u003e90d Containment: %{y:.1f}%\\u003cbr\\u003eStrategy: IC90\\u003cbr\\u003e\\u003cextra\\u003e\\u003c\\u002fextra\\u003e\",\"\\u003cb\\u003e%{text}\\u003c\\u002fb\\u003e\\u003cbr\\u003eIV Premium: %{x:.1f}%\\u003cbr\\u003e90d Containment: %{y:.1f}%\\u003cbr\\u003eStrategy: IC90 + BIAS\\u2191 (4:2\\u2191 breaks, +4.3% drift)\\u003cbr\\u003e\\u003cextra\\u003e\\u003c\\u002fextra\\u003e\",\"\\u003cb\\u003e%{text}\\u003c\\u002fb\\u003e\\u003cbr\\u003eIV Premium: %{x:.1f}%\\u003cbr\\u003e90d Containment: %{y:.1f}%\\u003cbr\\u003eStrategy: IC90\\u26a0\\u2191 + BIAS\\u2191 (65% bias, 5:1\\u2191 breaks, +7.9% drift)\\u003cbr\\u003e\\u003cextra\\u003e\\u003c\\u002fextra\\u003e\",\"\\u003cb\\u003e%{text}\\u003c\\u002fb\\u003e\\u003cbr\\u003eIV Premium: %{x:.1f}%\\u003cbr\\u003e90d Containment: %{y:.1f}%\\u003cbr\\u003eStrategy: IC90 + BIAS\\u2191 (65% bias, 5:2\\u2191 breaks, +4.3% drift)\\u003cbr\\u003e\\u003cextra\\u003e\\u003c\\u002fextra\\u003e\",\"\\u003cb\\u003e%{text}\\u003c\\u002fb\\u003e\\u003cbr\\u003eIV Premium: %{x:.1f}%\\u003cbr\\u003e90d Containment: %{y:.1f}%\\u003cbr\\u003eStrategy: IC90 + BIAS\\u2191 (4:2\\u2191 breaks, +3.7% drift)\\u003cbr\\u003e\\u003cextra\\u003e\\u003c\\u002fextra\\u003e\",\"\\u003cb\\u003e%{text}\\u003c\\u002fb\\u003e\\u003cbr\\u003eIV Premium: %{x:.1f}%\\u003cbr\\u003e90d Containment: %{y:.1f}%\\u003cbr\\u003eStrategy: IC90 + BIAS\\u2191 (65% bias)\\u003cbr\\u003e\\u003cextra\\u003e\\u003c\\u002fextra\\u003e\",\"\\u003cb\\u003e%{text}\\u003c\\u002fb\\u003e\\u003cbr\\u003eIV Premium: %{x:.1f}%\\u003cbr\\u003e90d Containment: %{y:.1f}%\\u003cbr\\u003eStrategy: IC90 + BIAS\\u2191 (70% bias, 4:2\\u2191 breaks, +3.4% drift)\\u003cbr\\u003e\\u003cextra\\u003e\\u003c\\u002fextra\\u003e\",\"\\u003cb\\u003e%{text}\\u003c\\u002fb\\u003e\\u003cbr\\u003eIV Premium: %{x:.1f}%\\u003cbr\\u003e90d Containment: %{y:.1f}%\\u003cbr\\u003eStrategy: IC90 + BIAS\\u2191 (4:2\\u2191 breaks, +3.7% drift)\\u003cbr\\u003e\\u003cextra\\u003e\\u003c\\u002fextra\\u003e\",\"\\u003cb\\u003e%{text}\\u003c\\u002fb\\u003e\\u003cbr\\u003eIV Premium: %{x:.1f}%\\u003cbr\\u003e90d Containment: %{y:.1f}%\\u003cbr\\u003eStrategy: IC90 + BIAS\\u2191 (65% bias, 4:2\\u2191 breaks, +5.3% drift)\\u003cbr\\u003e\\u003cextra\\u003e\\u003c\\u002fextra\\u003e\",\"\\u003cb\\u003e%{text}\\u003c\\u002fb\\u003e\\u003cbr\\u003eIV Premium: %{x:.1f}%\\u003cbr\\u003e90d Containment: %{y:.1f}%\\u003cbr\\u003eStrategy: IC90 + BIAS\\u2191 (4:2\\u2191 breaks, +4.0% drift)\\u003cbr\\u003e\\u003cextra\\u003e\\u003c\\u002fextra\\u003e\",\"\\u003cb\\u003e%{text}\\u003c\\u002fb\\u003e\\u003cbr\\u003eIV Premium: %{x:.1f}%\\u003cbr\\u003e90d Containment: %{y:.1f}%\\u003cbr\\u003eStrategy: IC90\\u003cbr\\u003e\\u003cextra\\u003e\\u003c\\u002fextra\\u003e\",\"\\u003cb\\u003e%{text}\\u003c\\u002fb\\u003e\\u003cbr\\u003eIV Premium: %{x:.1f}%\\u003cbr\\u003e90d Containment: %{y:.1f}%\\u003cbr\\u003eStrategy: IC90 + BIAS\\u2191 (65% bias, 4:2\\u2191 breaks)\\u003cbr\\u003e\\u003cextra\\u003e\\u003c\\u002fextra\\u003e\",\"\\u003cb\\u003e%{text}\\u003c\\u002fb\\u003e\\u003cbr\\u003eIV Premium: %{x:.1f}%\\u003cbr\\u003e90d Containment: %{y:.1f}%\\u003cbr\\u003eStrategy: IC90\\u26a0\\u2191 + BIAS\\u2191 (74% bias, 5:1\\u2191 breaks, +5.8% drift)\\u003cbr\\u003e\\u003cextra\\u003e\\u003c\\u002fextra\\u003e\",\"\\u003cb\\u003e%{text}\\u003c\\u002fb\\u003e\\u003cbr\\u003eIV Premium: %{x:.1f}%\\u003cbr\\u003e90d Containment: %{y:.1f}%\\u003cbr\\u003eStrategy: IC90\\u003cbr\\u003e\\u003cextra\\u003e\\u003c\\u002fextra\\u003e\",\"\\u003cb\\u003e%{text}\\u003c\\u002fb\\u003e\\u003cbr\\u003eIV Premium: %{x:.1f}%\\u003cbr\\u003e90d Containment: %{y:.1f}%\\u003cbr\\u003eStrategy: IC90 + BIAS\\u2191 (4:2\\u2191 breaks, +3.3% drift)\\u003cbr\\u003e\\u003cextra\\u003e\\u003c\\u002fextra\\u003e\",\"\\u003cb\\u003e%{text}\\u003c\\u002fb\\u003e\\u003cbr\\u003eIV Premium: %{x:.1f}%\\u003cbr\\u003e90d Containment: %{y:.1f}%\\u003cbr\\u003eStrategy: IC90\\u26a0\\u2191 + BIAS\\u2191 (5:1\\u2191 breaks, +3.7% drift)\\u003cbr\\u003e\\u003cextra\\u003e\\u003c\\u002fextra\\u003e\",\"\\u003cb\\u003e%{text}\\u003c\\u002fb\\u003e\\u003cbr\\u003eIV Premium: %{x:.1f}%\\u003cbr\\u003e90d Containment: %{y:.1f}%\\u003cbr\\u003eStrategy: IC90\\u003cbr\\u003e\\u003cextra\\u003e\\u003c\\u002fextra\\u003e\",\"\\u003cb\\u003e%{text}\\u003c\\u002fb\\u003e\\u003cbr\\u003eIV Premium: %{x:.1f}%\\u003cbr\\u003e90d Containment: %{y:.1f}%\\u003cbr\\u003eStrategy: IC90\\u003cbr\\u003e\\u003cextra\\u003e\\u003c\\u002fextra\\u003e\",\"\\u003cb\\u003e%{text}\\u003c\\u002fb\\u003e\\u003cbr\\u003eIV Premium: %{x:.1f}%\\u003cbr\\u003e90d Containment: %{y:.1f}%\\u003cbr\\u003eStrategy: IC90 + BIAS\\u2191 (65% bias, 4:2\\u2191 breaks, +9.8% drift)\\u003cbr\\u003e\\u003cextra\\u003e\\u003c\\u002fextra\\u003e\",\"\\u003cb\\u003e%{text}\\u003c\\u002fb\\u003e\\u003cbr\\u003eIV Premium: %{x:.1f}%\\u003cbr\\u003e90d Containment: %{y:.1f}%\\u003cbr\\u003eStrategy: IC90 + BIAS\\u2191 (4:2\\u2191 breaks, +3.7% drift)\\u003cbr\\u003e\\u003cextra\\u003e\\u003c\\u002fextra\\u003e\"],\"marker\":{\"color\":\"green\",\"line\":{\"color\":\"darkgreen\",\"width\":1},\"opacity\":0.7,\"size\":12},\"mode\":\"markers+text\",\"name\":\"Iron Condor\",\"text\":[\"DAL\",\"FAST\",\"BLK\",\"PEP\",\"C\",\"DPZ\",\"GS\",\"JNJ\",\"JPM\",\"ABT\",\"OMC\",\"WFC\",\"BAC\",\"MS\",\"PGR\",\"CFG\",\"PLD\",\"PNC\",\"JBHT\",\"UAL\",\"SYF\",\"BK\",\"KEY\",\"MTB\",\"MMC\",\"SNA\",\"SCHW\",\"TRV\",\"USB\",\"CSX\",\"AXP\",\"HBAN\",\"FITB\",\"SLB\",\"STT\",\"TFC\",\"STLD\",\"RF\"],\"textfont\":{\"color\":\"darkgreen\",\"size\":9},\"textposition\":\"top center\",\"x\":[173.5,327.4,182.8,362.3,201.0,385.2,272.5,356.6,260.8,191.7,190.1,198.0,221.6,179.6,326.8,161.1,257.5,149.0,420.7,155.6,110.4,248.2,100.7,183.8,239.2,117.3,151.6,209.0,218.2,258.1,135.3,198.0,126.2,163.4,199.1,98.5,170.6,180.6],\"y\":[75.0,74.0,74.0,74.0,74.0,74.0,74.0,74.0,74.0,74.0,70.0,74.0,70.0,70.0,74.0,74.0,74.0,74.0,74.0,74.0,74.0,70.0,74.0,74.0,74.0,74.0,74.0,74.0,74.0,74.0,74.0,74.0,74.0,74.0,74.0,74.0,74.0,74.0],\"type\":\"scatter\"}],                        {\"template\":{\"data\":{\"histogram2dcontour\":[{\"type\":\"histogram2dcontour\",\"colorbar\":{\"outlinewidth\":0,\"ticks\":\"\"},\"colorscale\":[[0.0,\"#0d0887\"],[0.1111111111111111,\"#46039f\"],[0.2222222222222222,\"#7201a8\"],[0.3333333333333333,\"#9c179e\"],[0.4444444444444444,\"#bd3786\"],[0.5555555555555556,\"#d8576b\"],[0.6666666666666666,\"#ed7953\"],[0.7777777777777778,\"#fb9f3a\"],[0.8888888888888888,\"#fdca26\"],[1.0,\"#f0f921\"]]}],\"choropleth\":[{\"type\":\"choropleth\",\"colorbar\":{\"outlinewidth\":0,\"ticks\":\"\"}}],\"histogram2d\":[{\"type\":\"histogram2d\",\"colorbar\":{\"outlinewidth\":0,\"ticks\":\"\"},\"colorscale\":[[0.0,\"#0d0887\"],[0.1111111111111111,\"#46039f\"],[0.2222222222222222,\"#7201a8\"],[0.3333333333333333,\"#9c179e\"],[0.4444444444444444,\"#bd3786\"],[0.5555555555555556,\"#d8576b\"],[0.6666666666666666,\"#ed7953\"],[0.7777777777777778,\"#fb9f3a\"],[0.8888888888888888,\"#fdca26\"],[1.0,\"#f0f921\"]]}],\"heatmap\":[{\"type\":\"heatmap\",\"colorbar\":{\"outlinewidth\":0,\"ticks\":\"\"},\"colorscale\":[[0.0,\"#0d0887\"],[0.1111111111111111,\"#46039f\"],[0.2222222222222222,\"#7201a8\"],[0.3333333333333333,\"#9c179e\"],[0.4444444444444444,\"#bd3786\"],[0.5555555555555556,\"#d8576b\"],[0.6666666666666666,\"#ed7953\"],[0.7777777777777778,\"#fb9f3a\"],[0.8888888888888888,\"#fdca26\"],[1.0,\"#f0f921\"]]}],\"heatmapgl\":[{\"type\":\"heatmapgl\",\"colorbar\":{\"outlinewidth\":0,\"ticks\":\"\"},\"colorscale\":[[0.0,\"#0d0887\"],[0.1111111111111111,\"#46039f\"],[0.2222222222222222,\"#7201a8\"],[0.3333333333333333,\"#9c179e\"],[0.4444444444444444,\"#bd3786\"],[0.5555555555555556,\"#d8576b\"],[0.6666666666666666,\"#ed7953\"],[0.7777777777777778,\"#fb9f3a\"],[0.8888888888888888,\"#fdca26\"],[1.0,\"#f0f921\"]]}],\"contourcarpet\":[{\"type\":\"contourcarpet\",\"colorbar\":{\"outlinewidth\":0,\"ticks\":\"\"}}],\"contour\":[{\"type\":\"contour\",\"colorbar\":{\"outlinewidth\":0,\"ticks\":\"\"},\"colorscale\":[[0.0,\"#0d0887\"],[0.1111111111111111,\"#46039f\"],[0.2222222222222222,\"#7201a8\"],[0.3333333333333333,\"#9c179e\"],[0.4444444444444444,\"#bd3786\"],[0.5555555555555556,\"#d8576b\"],[0.6666666666666666,\"#ed7953\"],[0.7777777777777778,\"#fb9f3a\"],[0.8888888888888888,\"#fdca26\"],[1.0,\"#f0f921\"]]}],\"surface\":[{\"type\":\"surface\",\"colorbar\":{\"outlinewidth\":0,\"ticks\":\"\"},\"colorscale\":[[0.0,\"#0d0887\"],[0.1111111111111111,\"#46039f\"],[0.2222222222222222,\"#7201a8\"],[0.3333333333333333,\"#9c179e\"],[0.4444444444444444,\"#bd3786\"],[0.5555555555555556,\"#d8576b\"],[0.6666666666666666,\"#ed7953\"],[0.7777777777777778,\"#fb9f3a\"],[0.8888888888888888,\"#fdca26\"],[1.0,\"#f0f921\"]]}],\"mesh3d\":[{\"type\":\"mesh3d\",\"colorbar\":{\"outlinewidth\":0,\"ticks\":\"\"}}],\"scatter\":[{\"fillpattern\":{\"fillmode\":\"overlay\",\"size\":10,\"solidity\":0.2},\"type\":\"scatter\"}],\"parcoords\":[{\"type\":\"parcoords\",\"line\":{\"colorbar\":{\"outlinewidth\":0,\"ticks\":\"\"}}}],\"scatterpolargl\":[{\"type\":\"scatterpolargl\",\"marker\":{\"colorbar\":{\"outlinewidth\":0,\"ticks\":\"\"}}}],\"bar\":[{\"error_x\":{\"color\":\"#2a3f5f\"},\"error_y\":{\"color\":\"#2a3f5f\"},\"marker\":{\"line\":{\"color\":\"#E5ECF6\",\"width\":0.5},\"pattern\":{\"fillmode\":\"overlay\",\"size\":10,\"solidity\":0.2}},\"type\":\"bar\"}],\"scattergeo\":[{\"type\":\"scattergeo\",\"marker\":{\"colorbar\":{\"outlinewidth\":0,\"ticks\":\"\"}}}],\"scatterpolar\":[{\"type\":\"scatterpolar\",\"marker\":{\"colorbar\":{\"outlinewidth\":0,\"ticks\":\"\"}}}],\"histogram\":[{\"marker\":{\"pattern\":{\"fillmode\":\"overlay\",\"size\":10,\"solidity\":0.2}},\"type\":\"histogram\"}],\"scattergl\":[{\"type\":\"scattergl\",\"marker\":{\"colorbar\":{\"outlinewidth\":0,\"ticks\":\"\"}}}],\"scatter3d\":[{\"type\":\"scatter3d\",\"line\":{\"colorbar\":{\"outlinewidth\":0,\"ticks\":\"\"}},\"marker\":{\"colorbar\":{\"outlinewidth\":0,\"ticks\":\"\"}}}],\"scattermapbox\":[{\"type\":\"scattermapbox\",\"marker\":{\"colorbar\":{\"outlinewidth\":0,\"ticks\":\"\"}}}],\"scatterternary\":[{\"type\":\"scatterternary\",\"marker\":{\"colorbar\":{\"outlinewidth\":0,\"ticks\":\"\"}}}],\"scattercarpet\":[{\"type\":\"scattercarpet\",\"marker\":{\"colorbar\":{\"outlinewidth\":0,\"ticks\":\"\"}}}],\"carpet\":[{\"aaxis\":{\"endlinecolor\":\"#2a3f5f\",\"gridcolor\":\"white\",\"linecolor\":\"white\",\"minorgridcolor\":\"white\",\"startlinecolor\":\"#2a3f5f\"},\"baxis\":{\"endlinecolor\":\"#2a3f5f\",\"gridcolor\":\"white\",\"linecolor\":\"white\",\"minorgridcolor\":\"white\",\"startlinecolor\":\"#2a3f5f\"},\"type\":\"carpet\"}],\"table\":[{\"cells\":{\"fill\":{\"color\":\"#EBF0F8\"},\"line\":{\"color\":\"white\"}},\"header\":{\"fill\":{\"color\":\"#C8D4E3\"},\"line\":{\"color\":\"white\"}},\"type\":\"table\"}],\"barpolar\":[{\"marker\":{\"line\":{\"color\":\"#E5ECF6\",\"width\":0.5},\"pattern\":{\"fillmode\":\"overlay\",\"size\":10,\"solidity\":0.2}},\"type\":\"barpolar\"}],\"pie\":[{\"automargin\":true,\"type\":\"pie\"}]},\"layout\":{\"autotypenumbers\":\"strict\",\"colorway\":[\"#636efa\",\"#EF553B\",\"#00cc96\",\"#ab63fa\",\"#FFA15A\",\"#19d3f3\",\"#FF6692\",\"#B6E880\",\"#FF97FF\",\"#FECB52\"],\"font\":{\"color\":\"#2a3f5f\"},\"hovermode\":\"closest\",\"hoverlabel\":{\"align\":\"left\"},\"paper_bgcolor\":\"white\",\"plot_bgcolor\":\"#E5ECF6\",\"polar\":{\"bgcolor\":\"#E5ECF6\",\"angularaxis\":{\"gridcolor\":\"white\",\"linecolor\":\"white\",\"ticks\":\"\"},\"radialaxis\":{\"gridcolor\":\"white\",\"linecolor\":\"white\",\"ticks\":\"\"}},\"ternary\":{\"bgcolor\":\"#E5ECF6\",\"aaxis\":{\"gridcolor\":\"white\",\"linecolor\":\"white\",\"ticks\":\"\"},\"baxis\":{\"gridcolor\":\"white\",\"linecolor\":\"white\",\"ticks\":\"\"},\"caxis\":{\"gridcolor\":\"white\",\"linecolor\":\"white\",\"ticks\":\"\"}},\"coloraxis\":{\"colorbar\":{\"outlinewidth\":0,\"ticks\":\"\"}},\"colorscale\":{\"sequential\":[[0.0,\"#0d0887\"],[0.1111111111111111,\"#46039f\"],[0.2222222222222222,\"#7201a8\"],[0.3333333333333333,\"#9c179e\"],[0.4444444444444444,\"#bd3786\"],[0.5555555555555556,\"#d8576b\"],[0.6666666666666666,\"#ed7953\"],[0.7777777777777778,\"#fb9f3a\"],[0.8888888888888888,\"#fdca26\"],[1.0,\"#f0f921\"]],\"sequentialminus\":[[0.0,\"#0d0887\"],[0.1111111111111111,\"#46039f\"],[0.2222222222222222,\"#7201a8\"],[0.3333333333333333,\"#9c179e\"],[0.4444444444444444,\"#bd3786\"],[0.5555555555555556,\"#d8576b\"],[0.6666666666666666,\"#ed7953\"],[0.7777777777777778,\"#fb9f3a\"],[0.8888888888888888,\"#fdca26\"],[1.0,\"#f0f921\"]],\"diverging\":[[0,\"#8e0152\"],[0.1,\"#c51b7d\"],[0.2,\"#de77ae\"],[0.3,\"#f1b6da\"],[0.4,\"#fde0ef\"],[0.5,\"#f7f7f7\"],[0.6,\"#e6f5d0\"],[0.7,\"#b8e186\"],[0.8,\"#7fbc41\"],[0.9,\"#4d9221\"],[1,\"#276419\"]]},\"xaxis\":{\"gridcolor\":\"white\",\"linecolor\":\"white\",\"ticks\":\"\",\"title\":{\"standoff\":15},\"zerolinecolor\":\"white\",\"automargin\":true,\"zerolinewidth\":2},\"yaxis\":{\"gridcolor\":\"white\",\"linecolor\":\"white\",\"ticks\":\"\",\"title\":{\"standoff\":15},\"zerolinecolor\":\"white\",\"automargin\":true,\"zerolinewidth\":2},\"scene\":{\"xaxis\":{\"backgroundcolor\":\"#E5ECF6\",\"gridcolor\":\"white\",\"linecolor\":\"white\",\"showbackground\":true,\"ticks\":\"\",\"zerolinecolor\":\"white\",\"gridwidth\":2},\"yaxis\":{\"backgroundcolor\":\"#E5ECF6\",\"gridcolor\":\"white\",\"linecolor\":\"white\",\"showbackground\":true,\"ticks\":\"\",\"zerolinecolor\":\"white\",\"gridwidth\":2},\"zaxis\":{\"backgroundcolor\":\"#E5ECF6\",\"gridcolor\":\"white\",\"linecolor\":\"white\",\"showbackground\":true,\"ticks\":\"\",\"zerolinecolor\":\"white\",\"gridwidth\":2}},\"shapedefaults\":{\"line\":{\"color\":\"#2a3f5f\"}},\"annotationdefaults\":{\"arrowcolor\":\"#2a3f5f\",\"arrowhead\":0,\"arrowwidth\":1},\"geo\":{\"bgcolor\":\"white\",\"landcolor\":\"#E5ECF6\",\"subunitcolor\":\"white\",\"showland\":true,\"showlakes\":true,\"lakecolor\":\"white\"},\"title\":{\"x\":0.05},\"mapbox\":{\"style\":\"light\"}}},\"shapes\":[{\"line\":{\"color\":\"red\",\"dash\":\"dash\"},\"opacity\":0.3,\"type\":\"line\",\"x0\":0,\"x1\":1,\"xref\":\"x domain\",\"y0\":70,\"y1\":70,\"yref\":\"y\"},{\"line\":{\"color\":\"red\",\"dash\":\"dash\"},\"opacity\":0.3,\"type\":\"line\",\"x0\":15,\"x1\":15,\"xref\":\"x\",\"y0\":0,\"y1\":1,\"yref\":\"y domain\"}],\"title\":{\"font\":{\"size\":18,\"color\":\"black\"},\"text\":\"Trade Quality Matrix - Earnings Plays\",\"x\":0.5,\"xanchor\":\"center\"},\"xaxis\":{\"title\":{\"text\":\"IV Premium (%)\"},\"showgrid\":false,\"zeroline\":true},\"yaxis\":{\"title\":{\"text\":\"Containment Rate (%)\"},\"showgrid\":false,\"zeroline\":false},\"legend\":{\"x\":1,\"y\":0,\"xanchor\":\"right\",\"yanchor\":\"bottom\"},\"hovermode\":\"closest\",\"plot_bgcolor\":\"white\",\"width\":1200,\"height\":700,\"annotations\":[{\"font\":{\"color\":\"gray\",\"size\":10,\"style\":\"italic\"},\"showarrow\":false,\"text\":\"Gold Zone = Top-right quadrant (High Containment + Rich Premium)\",\"x\":1,\"xanchor\":\"right\",\"xref\":\"paper\",\"y\":-0.1,\"yanchor\":\"top\",\"yref\":\"paper\"}]},                        {\"responsive\": true}                    ).then(function(){\n",
       "                            \n",
       "var gd = document.getElementById('1da45d31-f462-4bb6-a7eb-553302505cb5');\n",
       "var x = new MutationObserver(function (mutations, observer) {{\n",
       "        var display = window.getComputedStyle(gd).display;\n",
       "        if (!display || display === 'none') {{\n",
       "            console.log([gd, 'removed!']);\n",
       "            Plotly.purge(gd);\n",
       "            observer.disconnect();\n",
       "        }}\n",
       "}});\n",
       "\n",
       "// Listen for the removal of the full notebook cells\n",
       "var notebookContainer = gd.closest('#notebook-container');\n",
       "if (notebookContainer) {{\n",
       "    x.observe(notebookContainer, {childList: true});\n",
       "}}\n",
       "\n",
       "// Listen for the clearing of the current output cell\n",
       "var outputEl = gd.closest('.output');\n",
       "if (outputEl) {{\n",
       "    x.observe(outputEl, {childList: true});\n",
       "}}\n",
       "\n",
       "                        })                };                });            </script>        </div>"
      ]
     },
     "metadata": {},
     "output_type": "display_data"
    }
   ],
   "source": [
    "from earnings_analyzer import batch_analyze\n",
    "from earnings_analyzer.visualization.quality_matrix import plot_quality_matrix\n",
    "\n",
    "# Full ticker list\n",
    "tickers = [\n",
    "    \"DAL\", \"PEP\", \"FAST\", \"BLK\", \"C\", \"DPZ\", \"GS\", \"JNJ\", \"JPM\", \"WFC\",\n",
    "    \"OMC\", \"ABT\", \"BAC\", \"CFG\", \"MS\", \"PGR\", \"PLD\", \"PNC\", \"SYF\", \"JBHT\",\n",
    "    \"UAL\", \"BK\", \"KEY\", \"MMC\", \"MTB\", \"SCHW\", \"SNA\", \"TRV\", \"USB\", \"CSX\",\n",
    "    \"AXP\", \"FITB\", \"HBAN\", \"RF\", \"SLB\", \"STT\", \"TFC\", \"STLD\"\n",
    "]\n",
    "\n",
    "results = batch_analyze(tickers, lookback_quarters=24, fetch_iv=True, parallel=True)\n",
    "\n",
    "if results is not None:\n",
    "    plot_quality_matrix(results, save_path='quality_matrix_full.html', show=True)"
   ]
  },
  {
   "cell_type": "code",
   "execution_count": 3,
   "id": "2aaf135c-16d8-4911-8253-c844663729b9",
   "metadata": {},
   "outputs": [
    {
     "name": "stdout",
     "output_type": "stream",
     "text": [
      "\n",
      "===========================================================================\n",
      "EARNINGS CONTAINMENT ANALYZER - v2.7\n",
      "Lookback: 24 quarters (~6 years)\n",
      "Current IV from Yahoo Finance (15-20min delayed)\n",
      "Parallel processing: 4 workers\n",
      "===========================================================================\n",
      "\n",
      "✓ All 4 API keys available\n",
      "                                                                                \n",
      "📊 FETCH SUMMARY\n",
      "===========================================================================\n",
      "✓ Earnings Cached (3): JPM, JNJ, WFC\n",
      "✓ IV Retrieved (3): JPM, JNJ, WFC\n",
      "\n",
      "==============================================================================================================\n",
      "BACKTEST RESULTS\n",
      "==============================================================================================================\n",
      "Ticker  RVol45  RVol90 IV45 IVP45 |  45D%  90D%  90Bias 90Break 90Drift  |                                            Pattern\n",
      "   JPM       7      14   28 +261% |    71    74      70    4:2↑   +4.7%   | IC90 + BIAS↑ (70% bias, 4:2↑ breaks, +4.7% drift)\n",
      "   JNJ       5       5   24 +357% |    75    74      52    4:2↑   +0.4%   |                        IC90 + BIAS↑ (4:2↑ breaks)\n",
      "   WFC       9      18   29 +198% |    75    74      65    4:2↑   +4.6%   | IC90 + BIAS↑ (65% bias, 4:2↑ breaks, +4.6% drift)\n",
      "\n",
      "==============================================================================================================\n",
      "KEY TAKEAWAYS:\n",
      "==============================================================================================================\n",
      "\n",
      "📊 Pattern Summary: 3 IC candidates | 3 Upward bias | 0 Downward bias | 0 No edge\n",
      "\n",
      "📈 Strong Directional Signals:\n",
      "  JPM: 70% bias ↑, 4:2↑ breaks, +4.7% drift\n",
      "\n",
      "💡 Remember: Past patterns ≠ Future results. IV context shows current opportunity cost.\n"
     ]
    }
   ],
   "source": [
    "from earnings_analyzer import batch_analyze\n",
    "# from earnings_analyzer.visualization.quality_matrix import plot_quality_matrix\n",
    "\n",
    "# Full ticker list\n",
    "tickers = [\"JNJ\", \"JPM\", \"WFC\"]\n",
    "\n",
    "results = batch_analyze(tickers, lookback_quarters=24, fetch_iv=True, parallel=True)"
   ]
  },
  {
   "cell_type": "code",
   "execution_count": null,
   "id": "d70a8df7-e3bb-430a-b70e-021909150fd4",
   "metadata": {},
   "outputs": [],
   "source": []
  }
 ],
 "metadata": {
  "kernelspec": {
   "display_name": "Python 3 (ipykernel)",
   "language": "python",
   "name": "python3"
  },
  "language_info": {
   "codemirror_mode": {
    "name": "ipython",
    "version": 3
   },
   "file_extension": ".py",
   "mimetype": "text/x-python",
   "name": "python",
   "nbconvert_exporter": "python",
   "pygments_lexer": "ipython3",
   "version": "3.12.3"
  }
 },
 "nbformat": 4,
 "nbformat_minor": 5
}
