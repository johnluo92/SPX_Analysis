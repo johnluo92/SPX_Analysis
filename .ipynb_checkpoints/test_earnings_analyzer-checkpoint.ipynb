{
 "cells": [
  {
   "cell_type": "code",
   "execution_count": 5,
   "id": "588da32a-42ff-4855-9959-bc2866266bb4",
   "metadata": {},
   "outputs": [
    {
     "name": "stdout",
     "output_type": "stream",
     "text": [
      "\n",
      "===========================================================================\n",
      "EARNINGS CONTAINMENT ANALYZER - v2.5 (HVol Backtest)\n",
      "Lookback: 24 quarters (~6 years)\n",
      "Current IV from Yahoo Finance (15-20min delayed)\n",
      "===========================================================================\n",
      "\n",
      "✓ All 4 API keys available\n",
      "                                                                                \n",
      "📊 FETCH SUMMARY\n",
      "===========================================================================\n",
      "✓ Earnings Cached (3): AAPL, MSFT, JPM\n",
      "✓ IV Retrieved (3): AAPL, MSFT, JPM\n",
      "\n",
      "==============================================================================================================\n",
      "BACKTEST RESULTS\n",
      "==============================================================================================================\n",
      "Ticker  HVol% CurIV% IVPrem |  90D%  90Bias 90Break 90Drift  |                                                     Pattern\n",
      "  AAPL     27     28    +4% |    78      57     3:2   +5.4%   |            IC90 + BIAS↑ (3:2↑ 90d breaks, +5.4% 90d drift)\n",
      "  MSFT     24     28   +16% |    78      65    5:0↑   +6.2%   | IC90⚠↑ + IC45⚠↑ + BIAS↑ (5:0↑ 90d breaks, +6.2% 90d drift)\n",
      "   JPM     28     28    +0% |    61      70    6:3↑   +4.7%   |                                    BIAS↑ (6:3↑ 90d breaks)\n",
      "\n",
      "==============================================================================================================\n",
      "PATTERN LEGEND:\n",
      "==============================================================================================================\n",
      "• IC45/IC90: Mean reversion containment windows (45-day/90-day)\n",
      "• BIAS↑/BIAS↓: Directional edge (always based on 90-day thresholds)\n",
      "• ⚠↑/⚠↓: Asymmetric break risk (watch for skewed movement)\n",
      "• Edge count: Number of independent 90-day patterns detected\n",
      "• All bias metrics (%, breaks, drift) reference 90-day analysis\n",
      "\n",
      "==============================================================================================================\n",
      "KEY TAKEAWAYS:\n",
      "==============================================================================================================\n",
      "\n",
      "📊 Pattern Summary: 2 IC candidates | 3 Upward bias | 0 Downward bias | 0 No edge\n",
      "\n",
      "💰 IV Landscape:\n",
      "  Rich Premium (≥15%): MSFT(+16%)\n",
      "  Normal Range: 2 tickers\n",
      "\n",
      "⚠️  Asymmetric ICs:\n",
      "  Upside risk: MSFT\n",
      "\n",
      "📈 Strong Directional Signals:\n",
      "  JPM: 70% bias ↑, 6:3↑ breaks, +4.7% drift\n",
      "\n",
      "💡 Remember: Past patterns ≠ Future results. IV context shows current opportunity cost.\n"
     ]
    }
   ],
   "source": [
    "from earnings_analyzer import batch_analyze\n",
    "results = batch_analyze([\"AAPL\", \"MSFT\", \"JPM\"], lookback_quarters=24)"
   ]
  },
  {
   "cell_type": "code",
   "execution_count": 3,
   "id": "e088df4c-8183-4ae1-b5f5-28a2efb02070",
   "metadata": {},
   "outputs": [
    {
     "name": "stdout",
     "output_type": "stream",
     "text": [
      "\n",
      "===========================================================================\n",
      "EARNINGS CONTAINMENT ANALYZER - v2.5 (HVol Backtest)\n",
      "Lookback: 24 quarters (~6 years)\n",
      "Current IV from Yahoo Finance (15-20min delayed)\n",
      "Parallel processing: 4 workers\n",
      "===========================================================================\n",
      "\n",
      "✓ All 4 API keys available\n",
      "                                                                                \n",
      "📊 FETCH SUMMARY\n",
      "===========================================================================\n",
      "✓ Earnings Cached (38): DAL, BLK, PEP, FAST, DPZ...\n",
      "✓ IV Retrieved (38): DAL, BLK, PEP, FAST, DPZ...\n",
      "\n",
      "==============================================================================================================\n",
      "BACKTEST RESULTS\n",
      "==============================================================================================================\n",
      "Ticker  HVol% CurIV% IVPrem |  90D%  90Bias 90Break 90Drift  |                                                     Pattern\n",
      "   DAL     43     42    -2% |    67      67     5:3   +3.5%   |                             IC45 + BIAS↑ (5:3↑ 90d breaks)\n",
      "   PEP     18     24   +32% |    74      65     3:3   +1.3%   |                                                IC90 + IC45\n",
      "  FAST     24     31   +26% |    78      61     3:2   +4.0%   |                             IC90 + BIAS↑ (3:2↑ 90d breaks)\n",
      "   BLK     28     28    -0% |    61      57     5:4   +4.9%   |                                                       SKIP\n",
      "     C     34     31    -8% |    70      48     4:3   +2.9%   |                                                IC90 + IC45\n",
      "   DPZ     27     39   +43% |    65      61     5:3   +2.9%   |                                    BIAS↑ (5:3↑ 90d breaks)\n",
      "    GS     32     33    +5% |    70      61    5:2↑   +6.6%   |   IC90 + IC45⚠↑ + BIAS↑ (5:2↑ 90d breaks, +6.6% 90d drift)\n",
      "   JNJ     17     24   +36% |    78      52     2:3   +0.4%   |                             IC90 + BIAS↓ (2:3↓ 90d breaks)\n",
      "   JPM     28     28    +0% |    61      70    6:3↑   +4.7%   |                                    BIAS↑ (6:3↑ 90d breaks)\n",
      "   WFC     35     29   -16% |    65      65     5:3   +4.6%   |                           IC45⚠↑ + BIAS↑ (5:3↑ 90d breaks)\n",
      "   OMC     26     35   +34% |    65      61     3:5   +0.2%   |                                    BIAS↓ (3:5↓ 90d breaks)\n",
      "   ABT     22     24    +9% |    78      57    4:1↑   +2.5%   |                           IC90⚠↑ + BIAS↑ (4:1↑ 90d breaks)\n",
      "   BAC     32     31    -4% |    61      61     5:4   +3.1%   |                                                       SKIP\n",
      "   CFG     40     28   -31% |    74      65     3:3   +3.1%   |                                                IC90 + IC45\n",
      "    MS     33     28   -13% |    61      70    6:3↑   +5.9%   |                   BIAS↑ (6:3↑ 90d breaks, +5.9% 90d drift)\n",
      "   PGR     24     30   +23% |    70      70    7:0↑   +6.0%   | IC90⚠↑ + IC45⚠↑ + BIAS↑ (7:0↑ 90d breaks, +6.0% 90d drift)\n",
      "   PLD     29     28    -3% |    61      61    6:3↑   +1.3%   |                             IC45 + BIAS↑ (6:3↑ 90d breaks)\n",
      "   PNC     32     24   -24% |    61      70     5:4   +4.3%   |                                                       IC45\n",
      "   SYF     41     40    -2% |    70      65     3:4   +7.9%   |                             IC90 + BIAS↑ (+7.9% 90d drift)\n",
      "  JBHT     29     42   +45% |    74      52    2:4↓   +1.4%   |                      IC90 + IC45 + BIAS↓ (2:4↓ 90d breaks)\n",
      "   UAL     51     50    -3% |    70      57     4:3   +4.3%   |                                                IC90 + IC45\n",
      "    BK     29     29    +1% |    74      65    4:2↑   +4.3%   |                             IC90 + BIAS↑ (4:2↑ 90d breaks)\n",
      "   KEY     42     29   -31% |    78      61     2:3   +3.7%   |                    IC90 + IC45⚠↑ + BIAS↓ (2:3↓ 90d breaks)\n",
      "   MMC     18     26   +42% |    65      70    6:2↑   +3.4%   |                                    BIAS↑ (6:2↑ 90d breaks)\n",
      "   MTB     33     31    -7% |    61      65     4:5   +2.6%   |                                                       IC45\n",
      "  SCHW     34     31    -9% |    70      65     3:4   +5.3%   |                             IC90 + BIAS↑ (+5.3% 90d drift)\n",
      "   SNA     25     30   +17% |    65      61     4:4   +3.7%   |                                                       SKIP\n",
      "   TRV     25     27    +9% |    70      61    5:2↑   +4.0%   |                    IC90 + IC45⚠↑ + BIAS↑ (5:2↑ 90d breaks)\n",
      "   USB     33     28   -17% |    70      61     3:4   +0.6%   |                                                IC90 + IC45\n",
      "   CSX     25     30   +23% |    65      65     4:4   +2.7%   |                                                       SKIP\n",
      "   AXP     30     32    +5% |    43      74    9:4↑   +5.8%   |     BIAS↑ (74% 90d bias, 9:4↑ 90d breaks, +5.8% 90d drift)\n",
      "  FITB     38     29   -24% |    70      57     4:3   +3.3%   |                                              IC90 + IC45⚠↑\n",
      "  HBAN     35     45   +26% |    78      61     2:3   +1.9%   |                      IC90 + IC45 + BIAS↓ (2:3↓ 90d breaks)\n",
      "    RF     37     30   -20% |    78      61    1:4↓   +3.7%   |                  IC90⚠↓ + IC45⚠↑ + BIAS↓ (1:4↓ 90d breaks)\n",
      "   SLB     43     42    -3% |    87      61    1:2↓   +3.7%   |                      IC90 + IC45 + BIAS↓ (1:2↓ 90d breaks)\n",
      "   STT     33     34    +2% |    57      61     5:5   +2.5%   |                                                       SKIP\n",
      "   TFC     36     26   -29% |    78      57    0:5↓   +0.4%   |                    IC90⚠↓ + IC45 + BIAS↓ (0:5↓ 90d breaks)\n",
      "  STLD     42     38    -8% |    78      65     3:2   +9.8%   |            IC90 + BIAS↑ (3:2↑ 90d breaks, +9.8% 90d drift)\n",
      "\n",
      "==============================================================================================================\n",
      "PATTERN LEGEND:\n",
      "==============================================================================================================\n",
      "• IC45/IC90: Mean reversion containment windows (45-day/90-day)\n",
      "• BIAS↑/BIAS↓: Directional edge (always based on 90-day thresholds)\n",
      "• ⚠↑/⚠↓: Asymmetric break risk (watch for skewed movement)\n",
      "• Edge count: Number of independent 90-day patterns detected\n",
      "• All bias metrics (%, breaks, drift) reference 90-day analysis\n",
      "\n",
      "==============================================================================================================\n",
      "KEY TAKEAWAYS:\n",
      "==============================================================================================================\n",
      "\n",
      "📊 Pattern Summary: 27 IC candidates | 17 Upward bias | 8 Downward bias | 0 No edge\n",
      "\n",
      "💰 IV Landscape:\n",
      "  Rich Premium (≥15%): JBHT(+45%), DPZ(+43%), MMC(+42%), JNJ(+36%), OMC(+34%)\n",
      "  Thin Premium (≤-15%): CFG(-31%), KEY(-31%), TFC(-29%)\n",
      "  Normal Range: 19 tickers\n",
      "\n",
      "⚠️  Asymmetric ICs:\n",
      "  Upside risk: GS, WFC, ABT, PGR, KEY, TRV, FITB, RF\n",
      "  Downside risk: RF, TFC\n",
      "\n",
      "📈 Strong Directional Signals:\n",
      "  JPM: 70% bias ↑, 6:3↑ breaks, +4.7% drift\n",
      "  MS: 70% bias ↑, 6:3↑ breaks, +5.9% drift\n",
      "  PGR: 70% bias ↑, 7:0↑ breaks, +6.0% drift\n",
      "  MMC: 70% bias ↑, 6:2↑ breaks, +3.4% drift\n",
      "  AXP: 74% bias ↑, 9:4↑ breaks, +5.8% drift\n",
      "\n",
      "💡 Remember: Past patterns ≠ Future results. IV context shows current opportunity cost.\n",
      "\n",
      "✓ Quality matrix saved to quality_matrix_full.html\n"
     ]
    },
    {
     "data": {
      "application/vnd.plotly.v1+json": {
       "config": {
        "plotlyServerURL": "https://plot.ly"
       },
       "data": [
        {
         "hovertemplate": [
          "<b>%{text}</b><br>IV Premium: %{x:.1f}%<br>90d Containment: %{y:.1f}%<br>Strategy: IC45 + BIAS↑ (5:3↑ 90d breaks)<br><extra></extra>",
          "<b>%{text}</b><br>IV Premium: %{x:.1f}%<br>90d Containment: %{y:.1f}%<br>Strategy: IC90 + IC45<br><extra></extra>",
          "<b>%{text}</b><br>IV Premium: %{x:.1f}%<br>90d Containment: %{y:.1f}%<br>Strategy: IC90 + BIAS↑ (3:2↑ 90d breaks)<br><extra></extra>",
          "<b>%{text}</b><br>IV Premium: %{x:.1f}%<br>90d Containment: %{y:.1f}%<br>Strategy: IC90 + IC45<br><extra></extra>",
          "<b>%{text}</b><br>IV Premium: %{x:.1f}%<br>90d Containment: %{y:.1f}%<br>Strategy: IC90 + IC45⚠↑ + BIAS↑ (5:2↑ 90d breaks, +6.6% 90d drift)<br><extra></extra>",
          "<b>%{text}</b><br>IV Premium: %{x:.1f}%<br>90d Containment: %{y:.1f}%<br>Strategy: IC90 + BIAS↓ (2:3↓ 90d breaks)<br><extra></extra>",
          "<b>%{text}</b><br>IV Premium: %{x:.1f}%<br>90d Containment: %{y:.1f}%<br>Strategy: IC45⚠↑ + BIAS↑ (5:3↑ 90d breaks)<br><extra></extra>",
          "<b>%{text}</b><br>IV Premium: %{x:.1f}%<br>90d Containment: %{y:.1f}%<br>Strategy: IC90⚠↑ + BIAS↑ (4:1↑ 90d breaks)<br><extra></extra>",
          "<b>%{text}</b><br>IV Premium: %{x:.1f}%<br>90d Containment: %{y:.1f}%<br>Strategy: IC90 + IC45<br><extra></extra>",
          "<b>%{text}</b><br>IV Premium: %{x:.1f}%<br>90d Containment: %{y:.1f}%<br>Strategy: IC90⚠↑ + IC45⚠↑ + BIAS↑ (7:0↑ 90d breaks, +6.0% 90d drift)<br><extra></extra>",
          "<b>%{text}</b><br>IV Premium: %{x:.1f}%<br>90d Containment: %{y:.1f}%<br>Strategy: IC45 + BIAS↑ (6:3↑ 90d breaks)<br><extra></extra>",
          "<b>%{text}</b><br>IV Premium: %{x:.1f}%<br>90d Containment: %{y:.1f}%<br>Strategy: IC45<br><extra></extra>",
          "<b>%{text}</b><br>IV Premium: %{x:.1f}%<br>90d Containment: %{y:.1f}%<br>Strategy: IC90 + BIAS↑ (+7.9% 90d drift)<br><extra></extra>",
          "<b>%{text}</b><br>IV Premium: %{x:.1f}%<br>90d Containment: %{y:.1f}%<br>Strategy: IC90 + IC45 + BIAS↓ (2:4↓ 90d breaks)<br><extra></extra>",
          "<b>%{text}</b><br>IV Premium: %{x:.1f}%<br>90d Containment: %{y:.1f}%<br>Strategy: IC90 + IC45<br><extra></extra>",
          "<b>%{text}</b><br>IV Premium: %{x:.1f}%<br>90d Containment: %{y:.1f}%<br>Strategy: IC90 + BIAS↑ (4:2↑ 90d breaks)<br><extra></extra>",
          "<b>%{text}</b><br>IV Premium: %{x:.1f}%<br>90d Containment: %{y:.1f}%<br>Strategy: IC90 + IC45⚠↑ + BIAS↓ (2:3↓ 90d breaks)<br><extra></extra>",
          "<b>%{text}</b><br>IV Premium: %{x:.1f}%<br>90d Containment: %{y:.1f}%<br>Strategy: IC45<br><extra></extra>",
          "<b>%{text}</b><br>IV Premium: %{x:.1f}%<br>90d Containment: %{y:.1f}%<br>Strategy: IC90 + BIAS↑ (+5.3% 90d drift)<br><extra></extra>",
          "<b>%{text}</b><br>IV Premium: %{x:.1f}%<br>90d Containment: %{y:.1f}%<br>Strategy: IC90 + IC45⚠↑ + BIAS↑ (5:2↑ 90d breaks)<br><extra></extra>",
          "<b>%{text}</b><br>IV Premium: %{x:.1f}%<br>90d Containment: %{y:.1f}%<br>Strategy: IC90 + IC45<br><extra></extra>",
          "<b>%{text}</b><br>IV Premium: %{x:.1f}%<br>90d Containment: %{y:.1f}%<br>Strategy: IC90 + IC45⚠↑<br><extra></extra>",
          "<b>%{text}</b><br>IV Premium: %{x:.1f}%<br>90d Containment: %{y:.1f}%<br>Strategy: IC90 + IC45 + BIAS↓ (2:3↓ 90d breaks)<br><extra></extra>",
          "<b>%{text}</b><br>IV Premium: %{x:.1f}%<br>90d Containment: %{y:.1f}%<br>Strategy: IC90⚠↓ + IC45⚠↑ + BIAS↓ (1:4↓ 90d breaks)<br><extra></extra>",
          "<b>%{text}</b><br>IV Premium: %{x:.1f}%<br>90d Containment: %{y:.1f}%<br>Strategy: IC90 + IC45 + BIAS↓ (1:2↓ 90d breaks)<br><extra></extra>",
          "<b>%{text}</b><br>IV Premium: %{x:.1f}%<br>90d Containment: %{y:.1f}%<br>Strategy: IC90⚠↓ + IC45 + BIAS↓ (0:5↓ 90d breaks)<br><extra></extra>",
          "<b>%{text}</b><br>IV Premium: %{x:.1f}%<br>90d Containment: %{y:.1f}%<br>Strategy: IC90 + BIAS↑ (3:2↑ 90d breaks, +9.8% 90d drift)<br><extra></extra>"
         ],
         "marker": {
          "color": "green",
          "line": {
           "color": "darkgreen",
           "width": 1
          },
          "opacity": 0.7,
          "size": 12
         },
         "mode": "markers+text",
         "name": "Iron Condor",
         "text": [
          "DAL",
          "PEP",
          "FAST",
          "C",
          "GS",
          "JNJ",
          "WFC",
          "ABT",
          "CFG",
          "PGR",
          "PLD",
          "PNC",
          "SYF",
          "JBHT",
          "UAL",
          "BK",
          "KEY",
          "MTB",
          "SCHW",
          "TRV",
          "USB",
          "FITB",
          "HBAN",
          "RF",
          "SLB",
          "TFC",
          "STLD"
         ],
         "textfont": {
          "color": "darkgreen",
          "size": 9
         },
         "textposition": "top center",
         "type": "scatter",
         "x": [
          -1.6,
          32.4,
          25.8,
          -8.4,
          4.6,
          36,
          -16.4,
          9.4,
          -30.9,
          22.7,
          -3.1,
          -24.2,
          -1.7,
          44.7,
          -2.9,
          1.4,
          -30.6,
          -6.8,
          -8.6,
          8.7,
          -16.7,
          -23.6,
          26.1,
          -19.6,
          -3.2,
          -29,
          -7.9
         ],
         "y": [
          67,
          74,
          78,
          70,
          70,
          78,
          65,
          78,
          74,
          70,
          61,
          61,
          70,
          74,
          70,
          74,
          78,
          61,
          70,
          70,
          70,
          70,
          78,
          78,
          87,
          78,
          78
         ]
        },
        {
         "hovertemplate": [
          "<b>%{text}</b><br>IV Premium: %{x:.1f}%<br>90d Containment: %{y:.1f}%<br>Strategy: BIAS↑ (5:3↑ 90d breaks)<br><extra></extra>",
          "<b>%{text}</b><br>IV Premium: %{x:.1f}%<br>90d Containment: %{y:.1f}%<br>Strategy: BIAS↑ (6:3↑ 90d breaks)<br><extra></extra>",
          "<b>%{text}</b><br>IV Premium: %{x:.1f}%<br>90d Containment: %{y:.1f}%<br>Strategy: BIAS↓ (3:5↓ 90d breaks)<br><extra></extra>",
          "<b>%{text}</b><br>IV Premium: %{x:.1f}%<br>90d Containment: %{y:.1f}%<br>Strategy: BIAS↑ (6:3↑ 90d breaks, +5.9% 90d drift)<br><extra></extra>",
          "<b>%{text}</b><br>IV Premium: %{x:.1f}%<br>90d Containment: %{y:.1f}%<br>Strategy: BIAS↑ (6:2↑ 90d breaks)<br><extra></extra>",
          "<b>%{text}</b><br>IV Premium: %{x:.1f}%<br>90d Containment: %{y:.1f}%<br>Strategy: BIAS↑ (74% 90d bias, 9:4↑ 90d breaks, +5.8% 90d drift)<br><extra></extra>"
         ],
         "marker": {
          "color": "blue",
          "line": {
           "color": "darkblue",
           "width": 1
          },
          "opacity": 0.7,
          "size": 12
         },
         "mode": "markers+text",
         "name": "Directional Bias",
         "text": [
          "DPZ",
          "JPM",
          "OMC",
          "MS",
          "MMC",
          "AXP"
         ],
         "textfont": {
          "color": "darkblue",
          "size": 9
         },
         "textposition": "top center",
         "type": "scatter",
         "x": [
          42.9,
          0.4,
          34,
          -13,
          41.8,
          4.6
         ],
         "y": [
          65,
          61,
          65,
          61,
          65,
          43
         ]
        }
       ],
       "layout": {
        "annotations": [
         {
          "font": {
           "color": "gray",
           "size": 10,
           "style": "italic"
          },
          "showarrow": false,
          "text": "Gold Zone = Top-right quadrant (High Containment + Rich Premium)",
          "x": 1,
          "xanchor": "right",
          "xref": "paper",
          "y": -0.1,
          "yanchor": "top",
          "yref": "paper"
         }
        ],
        "height": 700,
        "hovermode": "closest",
        "legend": {
         "x": 1,
         "xanchor": "right",
         "y": 0,
         "yanchor": "bottom"
        },
        "plot_bgcolor": "white",
        "shapes": [
         {
          "line": {
           "color": "red",
           "dash": "dash"
          },
          "opacity": 0.3,
          "type": "line",
          "x0": 0,
          "x1": 1,
          "xref": "x domain",
          "y0": 70,
          "y1": 70,
          "yref": "y"
         },
         {
          "line": {
           "color": "red",
           "dash": "dash"
          },
          "opacity": 0.3,
          "type": "line",
          "x0": 15,
          "x1": 15,
          "xref": "x",
          "y0": 0,
          "y1": 1,
          "yref": "y domain"
         }
        ],
        "template": {
         "data": {
          "bar": [
           {
            "error_x": {
             "color": "#2a3f5f"
            },
            "error_y": {
             "color": "#2a3f5f"
            },
            "marker": {
             "line": {
              "color": "#E5ECF6",
              "width": 0.5
             },
             "pattern": {
              "fillmode": "overlay",
              "size": 10,
              "solidity": 0.2
             }
            },
            "type": "bar"
           }
          ],
          "barpolar": [
           {
            "marker": {
             "line": {
              "color": "#E5ECF6",
              "width": 0.5
             },
             "pattern": {
              "fillmode": "overlay",
              "size": 10,
              "solidity": 0.2
             }
            },
            "type": "barpolar"
           }
          ],
          "carpet": [
           {
            "aaxis": {
             "endlinecolor": "#2a3f5f",
             "gridcolor": "white",
             "linecolor": "white",
             "minorgridcolor": "white",
             "startlinecolor": "#2a3f5f"
            },
            "baxis": {
             "endlinecolor": "#2a3f5f",
             "gridcolor": "white",
             "linecolor": "white",
             "minorgridcolor": "white",
             "startlinecolor": "#2a3f5f"
            },
            "type": "carpet"
           }
          ],
          "choropleth": [
           {
            "colorbar": {
             "outlinewidth": 0,
             "ticks": ""
            },
            "type": "choropleth"
           }
          ],
          "contour": [
           {
            "colorbar": {
             "outlinewidth": 0,
             "ticks": ""
            },
            "colorscale": [
             [
              0,
              "#0d0887"
             ],
             [
              0.1111111111111111,
              "#46039f"
             ],
             [
              0.2222222222222222,
              "#7201a8"
             ],
             [
              0.3333333333333333,
              "#9c179e"
             ],
             [
              0.4444444444444444,
              "#bd3786"
             ],
             [
              0.5555555555555556,
              "#d8576b"
             ],
             [
              0.6666666666666666,
              "#ed7953"
             ],
             [
              0.7777777777777778,
              "#fb9f3a"
             ],
             [
              0.8888888888888888,
              "#fdca26"
             ],
             [
              1,
              "#f0f921"
             ]
            ],
            "type": "contour"
           }
          ],
          "contourcarpet": [
           {
            "colorbar": {
             "outlinewidth": 0,
             "ticks": ""
            },
            "type": "contourcarpet"
           }
          ],
          "heatmap": [
           {
            "colorbar": {
             "outlinewidth": 0,
             "ticks": ""
            },
            "colorscale": [
             [
              0,
              "#0d0887"
             ],
             [
              0.1111111111111111,
              "#46039f"
             ],
             [
              0.2222222222222222,
              "#7201a8"
             ],
             [
              0.3333333333333333,
              "#9c179e"
             ],
             [
              0.4444444444444444,
              "#bd3786"
             ],
             [
              0.5555555555555556,
              "#d8576b"
             ],
             [
              0.6666666666666666,
              "#ed7953"
             ],
             [
              0.7777777777777778,
              "#fb9f3a"
             ],
             [
              0.8888888888888888,
              "#fdca26"
             ],
             [
              1,
              "#f0f921"
             ]
            ],
            "type": "heatmap"
           }
          ],
          "heatmapgl": [
           {
            "colorbar": {
             "outlinewidth": 0,
             "ticks": ""
            },
            "colorscale": [
             [
              0,
              "#0d0887"
             ],
             [
              0.1111111111111111,
              "#46039f"
             ],
             [
              0.2222222222222222,
              "#7201a8"
             ],
             [
              0.3333333333333333,
              "#9c179e"
             ],
             [
              0.4444444444444444,
              "#bd3786"
             ],
             [
              0.5555555555555556,
              "#d8576b"
             ],
             [
              0.6666666666666666,
              "#ed7953"
             ],
             [
              0.7777777777777778,
              "#fb9f3a"
             ],
             [
              0.8888888888888888,
              "#fdca26"
             ],
             [
              1,
              "#f0f921"
             ]
            ],
            "type": "heatmapgl"
           }
          ],
          "histogram": [
           {
            "marker": {
             "pattern": {
              "fillmode": "overlay",
              "size": 10,
              "solidity": 0.2
             }
            },
            "type": "histogram"
           }
          ],
          "histogram2d": [
           {
            "colorbar": {
             "outlinewidth": 0,
             "ticks": ""
            },
            "colorscale": [
             [
              0,
              "#0d0887"
             ],
             [
              0.1111111111111111,
              "#46039f"
             ],
             [
              0.2222222222222222,
              "#7201a8"
             ],
             [
              0.3333333333333333,
              "#9c179e"
             ],
             [
              0.4444444444444444,
              "#bd3786"
             ],
             [
              0.5555555555555556,
              "#d8576b"
             ],
             [
              0.6666666666666666,
              "#ed7953"
             ],
             [
              0.7777777777777778,
              "#fb9f3a"
             ],
             [
              0.8888888888888888,
              "#fdca26"
             ],
             [
              1,
              "#f0f921"
             ]
            ],
            "type": "histogram2d"
           }
          ],
          "histogram2dcontour": [
           {
            "colorbar": {
             "outlinewidth": 0,
             "ticks": ""
            },
            "colorscale": [
             [
              0,
              "#0d0887"
             ],
             [
              0.1111111111111111,
              "#46039f"
             ],
             [
              0.2222222222222222,
              "#7201a8"
             ],
             [
              0.3333333333333333,
              "#9c179e"
             ],
             [
              0.4444444444444444,
              "#bd3786"
             ],
             [
              0.5555555555555556,
              "#d8576b"
             ],
             [
              0.6666666666666666,
              "#ed7953"
             ],
             [
              0.7777777777777778,
              "#fb9f3a"
             ],
             [
              0.8888888888888888,
              "#fdca26"
             ],
             [
              1,
              "#f0f921"
             ]
            ],
            "type": "histogram2dcontour"
           }
          ],
          "mesh3d": [
           {
            "colorbar": {
             "outlinewidth": 0,
             "ticks": ""
            },
            "type": "mesh3d"
           }
          ],
          "parcoords": [
           {
            "line": {
             "colorbar": {
              "outlinewidth": 0,
              "ticks": ""
             }
            },
            "type": "parcoords"
           }
          ],
          "pie": [
           {
            "automargin": true,
            "type": "pie"
           }
          ],
          "scatter": [
           {
            "fillpattern": {
             "fillmode": "overlay",
             "size": 10,
             "solidity": 0.2
            },
            "type": "scatter"
           }
          ],
          "scatter3d": [
           {
            "line": {
             "colorbar": {
              "outlinewidth": 0,
              "ticks": ""
             }
            },
            "marker": {
             "colorbar": {
              "outlinewidth": 0,
              "ticks": ""
             }
            },
            "type": "scatter3d"
           }
          ],
          "scattercarpet": [
           {
            "marker": {
             "colorbar": {
              "outlinewidth": 0,
              "ticks": ""
             }
            },
            "type": "scattercarpet"
           }
          ],
          "scattergeo": [
           {
            "marker": {
             "colorbar": {
              "outlinewidth": 0,
              "ticks": ""
             }
            },
            "type": "scattergeo"
           }
          ],
          "scattergl": [
           {
            "marker": {
             "colorbar": {
              "outlinewidth": 0,
              "ticks": ""
             }
            },
            "type": "scattergl"
           }
          ],
          "scattermapbox": [
           {
            "marker": {
             "colorbar": {
              "outlinewidth": 0,
              "ticks": ""
             }
            },
            "type": "scattermapbox"
           }
          ],
          "scatterpolar": [
           {
            "marker": {
             "colorbar": {
              "outlinewidth": 0,
              "ticks": ""
             }
            },
            "type": "scatterpolar"
           }
          ],
          "scatterpolargl": [
           {
            "marker": {
             "colorbar": {
              "outlinewidth": 0,
              "ticks": ""
             }
            },
            "type": "scatterpolargl"
           }
          ],
          "scatterternary": [
           {
            "marker": {
             "colorbar": {
              "outlinewidth": 0,
              "ticks": ""
             }
            },
            "type": "scatterternary"
           }
          ],
          "surface": [
           {
            "colorbar": {
             "outlinewidth": 0,
             "ticks": ""
            },
            "colorscale": [
             [
              0,
              "#0d0887"
             ],
             [
              0.1111111111111111,
              "#46039f"
             ],
             [
              0.2222222222222222,
              "#7201a8"
             ],
             [
              0.3333333333333333,
              "#9c179e"
             ],
             [
              0.4444444444444444,
              "#bd3786"
             ],
             [
              0.5555555555555556,
              "#d8576b"
             ],
             [
              0.6666666666666666,
              "#ed7953"
             ],
             [
              0.7777777777777778,
              "#fb9f3a"
             ],
             [
              0.8888888888888888,
              "#fdca26"
             ],
             [
              1,
              "#f0f921"
             ]
            ],
            "type": "surface"
           }
          ],
          "table": [
           {
            "cells": {
             "fill": {
              "color": "#EBF0F8"
             },
             "line": {
              "color": "white"
             }
            },
            "header": {
             "fill": {
              "color": "#C8D4E3"
             },
             "line": {
              "color": "white"
             }
            },
            "type": "table"
           }
          ]
         },
         "layout": {
          "annotationdefaults": {
           "arrowcolor": "#2a3f5f",
           "arrowhead": 0,
           "arrowwidth": 1
          },
          "autotypenumbers": "strict",
          "coloraxis": {
           "colorbar": {
            "outlinewidth": 0,
            "ticks": ""
           }
          },
          "colorscale": {
           "diverging": [
            [
             0,
             "#8e0152"
            ],
            [
             0.1,
             "#c51b7d"
            ],
            [
             0.2,
             "#de77ae"
            ],
            [
             0.3,
             "#f1b6da"
            ],
            [
             0.4,
             "#fde0ef"
            ],
            [
             0.5,
             "#f7f7f7"
            ],
            [
             0.6,
             "#e6f5d0"
            ],
            [
             0.7,
             "#b8e186"
            ],
            [
             0.8,
             "#7fbc41"
            ],
            [
             0.9,
             "#4d9221"
            ],
            [
             1,
             "#276419"
            ]
           ],
           "sequential": [
            [
             0,
             "#0d0887"
            ],
            [
             0.1111111111111111,
             "#46039f"
            ],
            [
             0.2222222222222222,
             "#7201a8"
            ],
            [
             0.3333333333333333,
             "#9c179e"
            ],
            [
             0.4444444444444444,
             "#bd3786"
            ],
            [
             0.5555555555555556,
             "#d8576b"
            ],
            [
             0.6666666666666666,
             "#ed7953"
            ],
            [
             0.7777777777777778,
             "#fb9f3a"
            ],
            [
             0.8888888888888888,
             "#fdca26"
            ],
            [
             1,
             "#f0f921"
            ]
           ],
           "sequentialminus": [
            [
             0,
             "#0d0887"
            ],
            [
             0.1111111111111111,
             "#46039f"
            ],
            [
             0.2222222222222222,
             "#7201a8"
            ],
            [
             0.3333333333333333,
             "#9c179e"
            ],
            [
             0.4444444444444444,
             "#bd3786"
            ],
            [
             0.5555555555555556,
             "#d8576b"
            ],
            [
             0.6666666666666666,
             "#ed7953"
            ],
            [
             0.7777777777777778,
             "#fb9f3a"
            ],
            [
             0.8888888888888888,
             "#fdca26"
            ],
            [
             1,
             "#f0f921"
            ]
           ]
          },
          "colorway": [
           "#636efa",
           "#EF553B",
           "#00cc96",
           "#ab63fa",
           "#FFA15A",
           "#19d3f3",
           "#FF6692",
           "#B6E880",
           "#FF97FF",
           "#FECB52"
          ],
          "font": {
           "color": "#2a3f5f"
          },
          "geo": {
           "bgcolor": "white",
           "lakecolor": "white",
           "landcolor": "#E5ECF6",
           "showlakes": true,
           "showland": true,
           "subunitcolor": "white"
          },
          "hoverlabel": {
           "align": "left"
          },
          "hovermode": "closest",
          "mapbox": {
           "style": "light"
          },
          "paper_bgcolor": "white",
          "plot_bgcolor": "#E5ECF6",
          "polar": {
           "angularaxis": {
            "gridcolor": "white",
            "linecolor": "white",
            "ticks": ""
           },
           "bgcolor": "#E5ECF6",
           "radialaxis": {
            "gridcolor": "white",
            "linecolor": "white",
            "ticks": ""
           }
          },
          "scene": {
           "xaxis": {
            "backgroundcolor": "#E5ECF6",
            "gridcolor": "white",
            "gridwidth": 2,
            "linecolor": "white",
            "showbackground": true,
            "ticks": "",
            "zerolinecolor": "white"
           },
           "yaxis": {
            "backgroundcolor": "#E5ECF6",
            "gridcolor": "white",
            "gridwidth": 2,
            "linecolor": "white",
            "showbackground": true,
            "ticks": "",
            "zerolinecolor": "white"
           },
           "zaxis": {
            "backgroundcolor": "#E5ECF6",
            "gridcolor": "white",
            "gridwidth": 2,
            "linecolor": "white",
            "showbackground": true,
            "ticks": "",
            "zerolinecolor": "white"
           }
          },
          "shapedefaults": {
           "line": {
            "color": "#2a3f5f"
           }
          },
          "ternary": {
           "aaxis": {
            "gridcolor": "white",
            "linecolor": "white",
            "ticks": ""
           },
           "baxis": {
            "gridcolor": "white",
            "linecolor": "white",
            "ticks": ""
           },
           "bgcolor": "#E5ECF6",
           "caxis": {
            "gridcolor": "white",
            "linecolor": "white",
            "ticks": ""
           }
          },
          "title": {
           "x": 0.05
          },
          "xaxis": {
           "automargin": true,
           "gridcolor": "white",
           "linecolor": "white",
           "ticks": "",
           "title": {
            "standoff": 15
           },
           "zerolinecolor": "white",
           "zerolinewidth": 2
          },
          "yaxis": {
           "automargin": true,
           "gridcolor": "white",
           "linecolor": "white",
           "ticks": "",
           "title": {
            "standoff": 15
           },
           "zerolinecolor": "white",
           "zerolinewidth": 2
          }
         }
        },
        "title": {
         "font": {
          "color": "black",
          "size": 18
         },
         "text": "Trade Quality Matrix - Earnings Plays",
         "x": 0.5,
         "xanchor": "center"
        },
        "width": 1200,
        "xaxis": {
         "autorange": true,
         "range": [
          -35.78403908794788,
          49.584039087947886
         ],
         "showgrid": false,
         "title": {
          "text": "IV Premium (%)"
         },
         "type": "linear",
         "zeroline": true
        },
        "yaxis": {
         "autorange": true,
         "range": [
          39.746136865342166,
          90.25386313465783
         ],
         "showgrid": false,
         "title": {
          "text": "Containment Rate (%)"
         },
         "type": "linear",
         "zeroline": false
        }
       }
      },
      "image/png": "[encoded data removed]",
      "text/html": [
       "<div>                            <div id=\"efbad04e-3f0b-49d6-9a3e-7c57b87997eb\" class=\"plotly-graph-div\" style=\"height:700px; width:1200px;\"></div>            <script type=\"text/javascript\">                require([\"plotly\"], function(Plotly) {                    window.PLOTLYENV=window.PLOTLYENV || {};                                    if (document.getElementById(\"efbad04e-3f0b-49d6-9a3e-7c57b87997eb\")) {                    Plotly.newPlot(                        \"efbad04e-3f0b-49d6-9a3e-7c57b87997eb\",                        [{\"hovertemplate\":[\"\\u003cb\\u003e%{text}\\u003c\\u002fb\\u003e\\u003cbr\\u003eIV Premium: %{x:.1f}%\\u003cbr\\u003e90d Containment: %{y:.1f}%\\u003cbr\\u003eStrategy: IC45 + BIAS\\u2191 (5:3\\u2191 90d breaks)\\u003cbr\\u003e\\u003cextra\\u003e\\u003c\\u002fextra\\u003e\",\"\\u003cb\\u003e%{text}\\u003c\\u002fb\\u003e\\u003cbr\\u003eIV Premium: %{x:.1f}%\\u003cbr\\u003e90d Containment: %{y:.1f}%\\u003cbr\\u003eStrategy: IC90 + IC45\\u003cbr\\u003e\\u003cextra\\u003e\\u003c\\u002fextra\\u003e\",\"\\u003cb\\u003e%{text}\\u003c\\u002fb\\u003e\\u003cbr\\u003eIV Premium: %{x:.1f}%\\u003cbr\\u003e90d Containment: %{y:.1f}%\\u003cbr\\u003eStrategy: IC90 + BIAS\\u2191 (3:2\\u2191 90d breaks)\\u003cbr\\u003e\\u003cextra\\u003e\\u003c\\u002fextra\\u003e\",\"\\u003cb\\u003e%{text}\\u003c\\u002fb\\u003e\\u003cbr\\u003eIV Premium: %{x:.1f}%\\u003cbr\\u003e90d Containment: %{y:.1f}%\\u003cbr\\u003eStrategy: IC90 + IC45\\u003cbr\\u003e\\u003cextra\\u003e\\u003c\\u002fextra\\u003e\",\"\\u003cb\\u003e%{text}\\u003c\\u002fb\\u003e\\u003cbr\\u003eIV Premium: %{x:.1f}%\\u003cbr\\u003e90d Containment: %{y:.1f}%\\u003cbr\\u003eStrategy: IC90 + IC45\\u26a0\\u2191 + BIAS\\u2191 (5:2\\u2191 90d breaks, +6.6% 90d drift)\\u003cbr\\u003e\\u003cextra\\u003e\\u003c\\u002fextra\\u003e\",\"\\u003cb\\u003e%{text}\\u003c\\u002fb\\u003e\\u003cbr\\u003eIV Premium: %{x:.1f}%\\u003cbr\\u003e90d Containment: %{y:.1f}%\\u003cbr\\u003eStrategy: IC90 + BIAS\\u2193 (2:3\\u2193 90d breaks)\\u003cbr\\u003e\\u003cextra\\u003e\\u003c\\u002fextra\\u003e\",\"\\u003cb\\u003e%{text}\\u003c\\u002fb\\u003e\\u003cbr\\u003eIV Premium: %{x:.1f}%\\u003cbr\\u003e90d Containment: %{y:.1f}%\\u003cbr\\u003eStrategy: IC45\\u26a0\\u2191 + BIAS\\u2191 (5:3\\u2191 90d breaks)\\u003cbr\\u003e\\u003cextra\\u003e\\u003c\\u002fextra\\u003e\",\"\\u003cb\\u003e%{text}\\u003c\\u002fb\\u003e\\u003cbr\\u003eIV Premium: %{x:.1f}%\\u003cbr\\u003e90d Containment: %{y:.1f}%\\u003cbr\\u003eStrategy: IC90\\u26a0\\u2191 + BIAS\\u2191 (4:1\\u2191 90d breaks)\\u003cbr\\u003e\\u003cextra\\u003e\\u003c\\u002fextra\\u003e\",\"\\u003cb\\u003e%{text}\\u003c\\u002fb\\u003e\\u003cbr\\u003eIV Premium: %{x:.1f}%\\u003cbr\\u003e90d Containment: %{y:.1f}%\\u003cbr\\u003eStrategy: IC90 + IC45\\u003cbr\\u003e\\u003cextra\\u003e\\u003c\\u002fextra\\u003e\",\"\\u003cb\\u003e%{text}\\u003c\\u002fb\\u003e\\u003cbr\\u003eIV Premium: %{x:.1f}%\\u003cbr\\u003e90d Containment: %{y:.1f}%\\u003cbr\\u003eStrategy: IC90\\u26a0\\u2191 + IC45\\u26a0\\u2191 + BIAS\\u2191 (7:0\\u2191 90d breaks, +6.0% 90d drift)\\u003cbr\\u003e\\u003cextra\\u003e\\u003c\\u002fextra\\u003e\",\"\\u003cb\\u003e%{text}\\u003c\\u002fb\\u003e\\u003cbr\\u003eIV Premium: %{x:.1f}%\\u003cbr\\u003e90d Containment: %{y:.1f}%\\u003cbr\\u003eStrategy: IC45 + BIAS\\u2191 (6:3\\u2191 90d breaks)\\u003cbr\\u003e\\u003cextra\\u003e\\u003c\\u002fextra\\u003e\",\"\\u003cb\\u003e%{text}\\u003c\\u002fb\\u003e\\u003cbr\\u003eIV Premium: %{x:.1f}%\\u003cbr\\u003e90d Containment: %{y:.1f}%\\u003cbr\\u003eStrategy: IC45\\u003cbr\\u003e\\u003cextra\\u003e\\u003c\\u002fextra\\u003e\",\"\\u003cb\\u003e%{text}\\u003c\\u002fb\\u003e\\u003cbr\\u003eIV Premium: %{x:.1f}%\\u003cbr\\u003e90d Containment: %{y:.1f}%\\u003cbr\\u003eStrategy: IC90 + BIAS\\u2191 (+7.9% 90d drift)\\u003cbr\\u003e\\u003cextra\\u003e\\u003c\\u002fextra\\u003e\",\"\\u003cb\\u003e%{text}\\u003c\\u002fb\\u003e\\u003cbr\\u003eIV Premium: %{x:.1f}%\\u003cbr\\u003e90d Containment: %{y:.1f}%\\u003cbr\\u003eStrategy: IC90 + IC45 + BIAS\\u2193 (2:4\\u2193 90d breaks)\\u003cbr\\u003e\\u003cextra\\u003e\\u003c\\u002fextra\\u003e\",\"\\u003cb\\u003e%{text}\\u003c\\u002fb\\u003e\\u003cbr\\u003eIV Premium: %{x:.1f}%\\u003cbr\\u003e90d Containment: %{y:.1f}%\\u003cbr\\u003eStrategy: IC90 + IC45\\u003cbr\\u003e\\u003cextra\\u003e\\u003c\\u002fextra\\u003e\",\"\\u003cb\\u003e%{text}\\u003c\\u002fb\\u003e\\u003cbr\\u003eIV Premium: %{x:.1f}%\\u003cbr\\u003e90d Containment: %{y:.1f}%\\u003cbr\\u003eStrategy: IC90 + BIAS\\u2191 (4:2\\u2191 90d breaks)\\u003cbr\\u003e\\u003cextra\\u003e\\u003c\\u002fextra\\u003e\",\"\\u003cb\\u003e%{text}\\u003c\\u002fb\\u003e\\u003cbr\\u003eIV Premium: %{x:.1f}%\\u003cbr\\u003e90d Containment: %{y:.1f}%\\u003cbr\\u003eStrategy: IC90 + IC45\\u26a0\\u2191 + BIAS\\u2193 (2:3\\u2193 90d breaks)\\u003cbr\\u003e\\u003cextra\\u003e\\u003c\\u002fextra\\u003e\",\"\\u003cb\\u003e%{text}\\u003c\\u002fb\\u003e\\u003cbr\\u003eIV Premium: %{x:.1f}%\\u003cbr\\u003e90d Containment: %{y:.1f}%\\u003cbr\\u003eStrategy: IC45\\u003cbr\\u003e\\u003cextra\\u003e\\u003c\\u002fextra\\u003e\",\"\\u003cb\\u003e%{text}\\u003c\\u002fb\\u003e\\u003cbr\\u003eIV Premium: %{x:.1f}%\\u003cbr\\u003e90d Containment: %{y:.1f}%\\u003cbr\\u003eStrategy: IC90 + BIAS\\u2191 (+5.3% 90d drift)\\u003cbr\\u003e\\u003cextra\\u003e\\u003c\\u002fextra\\u003e\",\"\\u003cb\\u003e%{text}\\u003c\\u002fb\\u003e\\u003cbr\\u003eIV Premium: %{x:.1f}%\\u003cbr\\u003e90d Containment: %{y:.1f}%\\u003cbr\\u003eStrategy: IC90 + IC45\\u26a0\\u2191 + BIAS\\u2191 (5:2\\u2191 90d breaks)\\u003cbr\\u003e\\u003cextra\\u003e\\u003c\\u002fextra\\u003e\",\"\\u003cb\\u003e%{text}\\u003c\\u002fb\\u003e\\u003cbr\\u003eIV Premium: %{x:.1f}%\\u003cbr\\u003e90d Containment: %{y:.1f}%\\u003cbr\\u003eStrategy: IC90 + IC45\\u003cbr\\u003e\\u003cextra\\u003e\\u003c\\u002fextra\\u003e\",\"\\u003cb\\u003e%{text}\\u003c\\u002fb\\u003e\\u003cbr\\u003eIV Premium: %{x:.1f}%\\u003cbr\\u003e90d Containment: %{y:.1f}%\\u003cbr\\u003eStrategy: IC90 + IC45\\u26a0\\u2191\\u003cbr\\u003e\\u003cextra\\u003e\\u003c\\u002fextra\\u003e\",\"\\u003cb\\u003e%{text}\\u003c\\u002fb\\u003e\\u003cbr\\u003eIV Premium: %{x:.1f}%\\u003cbr\\u003e90d Containment: %{y:.1f}%\\u003cbr\\u003eStrategy: IC90 + IC45 + BIAS\\u2193 (2:3\\u2193 90d breaks)\\u003cbr\\u003e\\u003cextra\\u003e\\u003c\\u002fextra\\u003e\",\"\\u003cb\\u003e%{text}\\u003c\\u002fb\\u003e\\u003cbr\\u003eIV Premium: %{x:.1f}%\\u003cbr\\u003e90d Containment: %{y:.1f}%\\u003cbr\\u003eStrategy: IC90\\u26a0\\u2193 + IC45\\u26a0\\u2191 + BIAS\\u2193 (1:4\\u2193 90d breaks)\\u003cbr\\u003e\\u003cextra\\u003e\\u003c\\u002fextra\\u003e\",\"\\u003cb\\u003e%{text}\\u003c\\u002fb\\u003e\\u003cbr\\u003eIV Premium: %{x:.1f}%\\u003cbr\\u003e90d Containment: %{y:.1f}%\\u003cbr\\u003eStrategy: IC90 + IC45 + BIAS\\u2193 (1:2\\u2193 90d breaks)\\u003cbr\\u003e\\u003cextra\\u003e\\u003c\\u002fextra\\u003e\",\"\\u003cb\\u003e%{text}\\u003c\\u002fb\\u003e\\u003cbr\\u003eIV Premium: %{x:.1f}%\\u003cbr\\u003e90d Containment: %{y:.1f}%\\u003cbr\\u003eStrategy: IC90\\u26a0\\u2193 + IC45 + BIAS\\u2193 (0:5\\u2193 90d breaks)\\u003cbr\\u003e\\u003cextra\\u003e\\u003c\\u002fextra\\u003e\",\"\\u003cb\\u003e%{text}\\u003c\\u002fb\\u003e\\u003cbr\\u003eIV Premium: %{x:.1f}%\\u003cbr\\u003e90d Containment: %{y:.1f}%\\u003cbr\\u003eStrategy: IC90 + BIAS\\u2191 (3:2\\u2191 90d breaks, +9.8% 90d drift)\\u003cbr\\u003e\\u003cextra\\u003e\\u003c\\u002fextra\\u003e\"],\"marker\":{\"color\":\"green\",\"line\":{\"color\":\"darkgreen\",\"width\":1},\"opacity\":0.7,\"size\":12},\"mode\":\"markers+text\",\"name\":\"Iron Condor\",\"text\":[\"DAL\",\"PEP\",\"FAST\",\"C\",\"GS\",\"JNJ\",\"WFC\",\"ABT\",\"CFG\",\"PGR\",\"PLD\",\"PNC\",\"SYF\",\"JBHT\",\"UAL\",\"BK\",\"KEY\",\"MTB\",\"SCHW\",\"TRV\",\"USB\",\"FITB\",\"HBAN\",\"RF\",\"SLB\",\"TFC\",\"STLD\"],\"textfont\":{\"color\":\"darkgreen\",\"size\":9},\"textposition\":\"top center\",\"x\":[-1.6,32.4,25.8,-8.4,4.6,36.0,-16.4,9.4,-30.9,22.7,-3.1,-24.2,-1.7,44.7,-2.9,1.4,-30.6,-6.8,-8.6,8.7,-16.7,-23.6,26.1,-19.6,-3.2,-29.0,-7.9],\"y\":[67.0,74.0,78.0,70.0,70.0,78.0,65.0,78.0,74.0,70.0,61.0,61.0,70.0,74.0,70.0,74.0,78.0,61.0,70.0,70.0,70.0,70.0,78.0,78.0,87.0,78.0,78.0],\"type\":\"scatter\"},{\"hovertemplate\":[\"\\u003cb\\u003e%{text}\\u003c\\u002fb\\u003e\\u003cbr\\u003eIV Premium: %{x:.1f}%\\u003cbr\\u003e90d Containment: %{y:.1f}%\\u003cbr\\u003eStrategy: BIAS\\u2191 (5:3\\u2191 90d breaks)\\u003cbr\\u003e\\u003cextra\\u003e\\u003c\\u002fextra\\u003e\",\"\\u003cb\\u003e%{text}\\u003c\\u002fb\\u003e\\u003cbr\\u003eIV Premium: %{x:.1f}%\\u003cbr\\u003e90d Containment: %{y:.1f}%\\u003cbr\\u003eStrategy: BIAS\\u2191 (6:3\\u2191 90d breaks)\\u003cbr\\u003e\\u003cextra\\u003e\\u003c\\u002fextra\\u003e\",\"\\u003cb\\u003e%{text}\\u003c\\u002fb\\u003e\\u003cbr\\u003eIV Premium: %{x:.1f}%\\u003cbr\\u003e90d Containment: %{y:.1f}%\\u003cbr\\u003eStrategy: BIAS\\u2193 (3:5\\u2193 90d breaks)\\u003cbr\\u003e\\u003cextra\\u003e\\u003c\\u002fextra\\u003e\",\"\\u003cb\\u003e%{text}\\u003c\\u002fb\\u003e\\u003cbr\\u003eIV Premium: %{x:.1f}%\\u003cbr\\u003e90d Containment: %{y:.1f}%\\u003cbr\\u003eStrategy: BIAS\\u2191 (6:3\\u2191 90d breaks, +5.9% 90d drift)\\u003cbr\\u003e\\u003cextra\\u003e\\u003c\\u002fextra\\u003e\",\"\\u003cb\\u003e%{text}\\u003c\\u002fb\\u003e\\u003cbr\\u003eIV Premium: %{x:.1f}%\\u003cbr\\u003e90d Containment: %{y:.1f}%\\u003cbr\\u003eStrategy: BIAS\\u2191 (6:2\\u2191 90d breaks)\\u003cbr\\u003e\\u003cextra\\u003e\\u003c\\u002fextra\\u003e\",\"\\u003cb\\u003e%{text}\\u003c\\u002fb\\u003e\\u003cbr\\u003eIV Premium: %{x:.1f}%\\u003cbr\\u003e90d Containment: %{y:.1f}%\\u003cbr\\u003eStrategy: BIAS\\u2191 (74% 90d bias, 9:4\\u2191 90d breaks, +5.8% 90d drift)\\u003cbr\\u003e\\u003cextra\\u003e\\u003c\\u002fextra\\u003e\"],\"marker\":{\"color\":\"blue\",\"line\":{\"color\":\"darkblue\",\"width\":1},\"opacity\":0.7,\"size\":12},\"mode\":\"markers+text\",\"name\":\"Directional Bias\",\"text\":[\"DPZ\",\"JPM\",\"OMC\",\"MS\",\"MMC\",\"AXP\"],\"textfont\":{\"color\":\"darkblue\",\"size\":9},\"textposition\":\"top center\",\"x\":[42.9,0.4,34.0,-13.0,41.8,4.6],\"y\":[65.0,61.0,65.0,61.0,65.0,43.0],\"type\":\"scatter\"}],                        {\"template\":{\"data\":{\"histogram2dcontour\":[{\"type\":\"histogram2dcontour\",\"colorbar\":{\"outlinewidth\":0,\"ticks\":\"\"},\"colorscale\":[[0.0,\"#0d0887\"],[0.1111111111111111,\"#46039f\"],[0.2222222222222222,\"#7201a8\"],[0.3333333333333333,\"#9c179e\"],[0.4444444444444444,\"#bd3786\"],[0.5555555555555556,\"#d8576b\"],[0.6666666666666666,\"#ed7953\"],[0.7777777777777778,\"#fb9f3a\"],[0.8888888888888888,\"#fdca26\"],[1.0,\"#f0f921\"]]}],\"choropleth\":[{\"type\":\"choropleth\",\"colorbar\":{\"outlinewidth\":0,\"ticks\":\"\"}}],\"histogram2d\":[{\"type\":\"histogram2d\",\"colorbar\":{\"outlinewidth\":0,\"ticks\":\"\"},\"colorscale\":[[0.0,\"#0d0887\"],[0.1111111111111111,\"#46039f\"],[0.2222222222222222,\"#7201a8\"],[0.3333333333333333,\"#9c179e\"],[0.4444444444444444,\"#bd3786\"],[0.5555555555555556,\"#d8576b\"],[0.6666666666666666,\"#ed7953\"],[0.7777777777777778,\"#fb9f3a\"],[0.8888888888888888,\"#fdca26\"],[1.0,\"#f0f921\"]]}],\"heatmap\":[{\"type\":\"heatmap\",\"colorbar\":{\"outlinewidth\":0,\"ticks\":\"\"},\"colorscale\":[[0.0,\"#0d0887\"],[0.1111111111111111,\"#46039f\"],[0.2222222222222222,\"#7201a8\"],[0.3333333333333333,\"#9c179e\"],[0.4444444444444444,\"#bd3786\"],[0.5555555555555556,\"#d8576b\"],[0.6666666666666666,\"#ed7953\"],[0.7777777777777778,\"#fb9f3a\"],[0.8888888888888888,\"#fdca26\"],[1.0,\"#f0f921\"]]}],\"heatmapgl\":[{\"type\":\"heatmapgl\",\"colorbar\":{\"outlinewidth\":0,\"ticks\":\"\"},\"colorscale\":[[0.0,\"#0d0887\"],[0.1111111111111111,\"#46039f\"],[0.2222222222222222,\"#7201a8\"],[0.3333333333333333,\"#9c179e\"],[0.4444444444444444,\"#bd3786\"],[0.5555555555555556,\"#d8576b\"],[0.6666666666666666,\"#ed7953\"],[0.7777777777777778,\"#fb9f3a\"],[0.8888888888888888,\"#fdca26\"],[1.0,\"#f0f921\"]]}],\"contourcarpet\":[{\"type\":\"contourcarpet\",\"colorbar\":{\"outlinewidth\":0,\"ticks\":\"\"}}],\"contour\":[{\"type\":\"contour\",\"colorbar\":{\"outlinewidth\":0,\"ticks\":\"\"},\"colorscale\":[[0.0,\"#0d0887\"],[0.1111111111111111,\"#46039f\"],[0.2222222222222222,\"#7201a8\"],[0.3333333333333333,\"#9c179e\"],[0.4444444444444444,\"#bd3786\"],[0.5555555555555556,\"#d8576b\"],[0.6666666666666666,\"#ed7953\"],[0.7777777777777778,\"#fb9f3a\"],[0.8888888888888888,\"#fdca26\"],[1.0,\"#f0f921\"]]}],\"surface\":[{\"type\":\"surface\",\"colorbar\":{\"outlinewidth\":0,\"ticks\":\"\"},\"colorscale\":[[0.0,\"#0d0887\"],[0.1111111111111111,\"#46039f\"],[0.2222222222222222,\"#7201a8\"],[0.3333333333333333,\"#9c179e\"],[0.4444444444444444,\"#bd3786\"],[0.5555555555555556,\"#d8576b\"],[0.6666666666666666,\"#ed7953\"],[0.7777777777777778,\"#fb9f3a\"],[0.8888888888888888,\"#fdca26\"],[1.0,\"#f0f921\"]]}],\"mesh3d\":[{\"type\":\"mesh3d\",\"colorbar\":{\"outlinewidth\":0,\"ticks\":\"\"}}],\"scatter\":[{\"fillpattern\":{\"fillmode\":\"overlay\",\"size\":10,\"solidity\":0.2},\"type\":\"scatter\"}],\"parcoords\":[{\"type\":\"parcoords\",\"line\":{\"colorbar\":{\"outlinewidth\":0,\"ticks\":\"\"}}}],\"scatterpolargl\":[{\"type\":\"scatterpolargl\",\"marker\":{\"colorbar\":{\"outlinewidth\":0,\"ticks\":\"\"}}}],\"bar\":[{\"error_x\":{\"color\":\"#2a3f5f\"},\"error_y\":{\"color\":\"#2a3f5f\"},\"marker\":{\"line\":{\"color\":\"#E5ECF6\",\"width\":0.5},\"pattern\":{\"fillmode\":\"overlay\",\"size\":10,\"solidity\":0.2}},\"type\":\"bar\"}],\"scattergeo\":[{\"type\":\"scattergeo\",\"marker\":{\"colorbar\":{\"outlinewidth\":0,\"ticks\":\"\"}}}],\"scatterpolar\":[{\"type\":\"scatterpolar\",\"marker\":{\"colorbar\":{\"outlinewidth\":0,\"ticks\":\"\"}}}],\"histogram\":[{\"marker\":{\"pattern\":{\"fillmode\":\"overlay\",\"size\":10,\"solidity\":0.2}},\"type\":\"histogram\"}],\"scattergl\":[{\"type\":\"scattergl\",\"marker\":{\"colorbar\":{\"outlinewidth\":0,\"ticks\":\"\"}}}],\"scatter3d\":[{\"type\":\"scatter3d\",\"line\":{\"colorbar\":{\"outlinewidth\":0,\"ticks\":\"\"}},\"marker\":{\"colorbar\":{\"outlinewidth\":0,\"ticks\":\"\"}}}],\"scattermapbox\":[{\"type\":\"scattermapbox\",\"marker\":{\"colorbar\":{\"outlinewidth\":0,\"ticks\":\"\"}}}],\"scatterternary\":[{\"type\":\"scatterternary\",\"marker\":{\"colorbar\":{\"outlinewidth\":0,\"ticks\":\"\"}}}],\"scattercarpet\":[{\"type\":\"scattercarpet\",\"marker\":{\"colorbar\":{\"outlinewidth\":0,\"ticks\":\"\"}}}],\"carpet\":[{\"aaxis\":{\"endlinecolor\":\"#2a3f5f\",\"gridcolor\":\"white\",\"linecolor\":\"white\",\"minorgridcolor\":\"white\",\"startlinecolor\":\"#2a3f5f\"},\"baxis\":{\"endlinecolor\":\"#2a3f5f\",\"gridcolor\":\"white\",\"linecolor\":\"white\",\"minorgridcolor\":\"white\",\"startlinecolor\":\"#2a3f5f\"},\"type\":\"carpet\"}],\"table\":[{\"cells\":{\"fill\":{\"color\":\"#EBF0F8\"},\"line\":{\"color\":\"white\"}},\"header\":{\"fill\":{\"color\":\"#C8D4E3\"},\"line\":{\"color\":\"white\"}},\"type\":\"table\"}],\"barpolar\":[{\"marker\":{\"line\":{\"color\":\"#E5ECF6\",\"width\":0.5},\"pattern\":{\"fillmode\":\"overlay\",\"size\":10,\"solidity\":0.2}},\"type\":\"barpolar\"}],\"pie\":[{\"automargin\":true,\"type\":\"pie\"}]},\"layout\":{\"autotypenumbers\":\"strict\",\"colorway\":[\"#636efa\",\"#EF553B\",\"#00cc96\",\"#ab63fa\",\"#FFA15A\",\"#19d3f3\",\"#FF6692\",\"#B6E880\",\"#FF97FF\",\"#FECB52\"],\"font\":{\"color\":\"#2a3f5f\"},\"hovermode\":\"closest\",\"hoverlabel\":{\"align\":\"left\"},\"paper_bgcolor\":\"white\",\"plot_bgcolor\":\"#E5ECF6\",\"polar\":{\"bgcolor\":\"#E5ECF6\",\"angularaxis\":{\"gridcolor\":\"white\",\"linecolor\":\"white\",\"ticks\":\"\"},\"radialaxis\":{\"gridcolor\":\"white\",\"linecolor\":\"white\",\"ticks\":\"\"}},\"ternary\":{\"bgcolor\":\"#E5ECF6\",\"aaxis\":{\"gridcolor\":\"white\",\"linecolor\":\"white\",\"ticks\":\"\"},\"baxis\":{\"gridcolor\":\"white\",\"linecolor\":\"white\",\"ticks\":\"\"},\"caxis\":{\"gridcolor\":\"white\",\"linecolor\":\"white\",\"ticks\":\"\"}},\"coloraxis\":{\"colorbar\":{\"outlinewidth\":0,\"ticks\":\"\"}},\"colorscale\":{\"sequential\":[[0.0,\"#0d0887\"],[0.1111111111111111,\"#46039f\"],[0.2222222222222222,\"#7201a8\"],[0.3333333333333333,\"#9c179e\"],[0.4444444444444444,\"#bd3786\"],[0.5555555555555556,\"#d8576b\"],[0.6666666666666666,\"#ed7953\"],[0.7777777777777778,\"#fb9f3a\"],[0.8888888888888888,\"#fdca26\"],[1.0,\"#f0f921\"]],\"sequentialminus\":[[0.0,\"#0d0887\"],[0.1111111111111111,\"#46039f\"],[0.2222222222222222,\"#7201a8\"],[0.3333333333333333,\"#9c179e\"],[0.4444444444444444,\"#bd3786\"],[0.5555555555555556,\"#d8576b\"],[0.6666666666666666,\"#ed7953\"],[0.7777777777777778,\"#fb9f3a\"],[0.8888888888888888,\"#fdca26\"],[1.0,\"#f0f921\"]],\"diverging\":[[0,\"#8e0152\"],[0.1,\"#c51b7d\"],[0.2,\"#de77ae\"],[0.3,\"#f1b6da\"],[0.4,\"#fde0ef\"],[0.5,\"#f7f7f7\"],[0.6,\"#e6f5d0\"],[0.7,\"#b8e186\"],[0.8,\"#7fbc41\"],[0.9,\"#4d9221\"],[1,\"#276419\"]]},\"xaxis\":{\"gridcolor\":\"white\",\"linecolor\":\"white\",\"ticks\":\"\",\"title\":{\"standoff\":15},\"zerolinecolor\":\"white\",\"automargin\":true,\"zerolinewidth\":2},\"yaxis\":{\"gridcolor\":\"white\",\"linecolor\":\"white\",\"ticks\":\"\",\"title\":{\"standoff\":15},\"zerolinecolor\":\"white\",\"automargin\":true,\"zerolinewidth\":2},\"scene\":{\"xaxis\":{\"backgroundcolor\":\"#E5ECF6\",\"gridcolor\":\"white\",\"linecolor\":\"white\",\"showbackground\":true,\"ticks\":\"\",\"zerolinecolor\":\"white\",\"gridwidth\":2},\"yaxis\":{\"backgroundcolor\":\"#E5ECF6\",\"gridcolor\":\"white\",\"linecolor\":\"white\",\"showbackground\":true,\"ticks\":\"\",\"zerolinecolor\":\"white\",\"gridwidth\":2},\"zaxis\":{\"backgroundcolor\":\"#E5ECF6\",\"gridcolor\":\"white\",\"linecolor\":\"white\",\"showbackground\":true,\"ticks\":\"\",\"zerolinecolor\":\"white\",\"gridwidth\":2}},\"shapedefaults\":{\"line\":{\"color\":\"#2a3f5f\"}},\"annotationdefaults\":{\"arrowcolor\":\"#2a3f5f\",\"arrowhead\":0,\"arrowwidth\":1},\"geo\":{\"bgcolor\":\"white\",\"landcolor\":\"#E5ECF6\",\"subunitcolor\":\"white\",\"showland\":true,\"showlakes\":true,\"lakecolor\":\"white\"},\"title\":{\"x\":0.05},\"mapbox\":{\"style\":\"light\"}}},\"shapes\":[{\"line\":{\"color\":\"red\",\"dash\":\"dash\"},\"opacity\":0.3,\"type\":\"line\",\"x0\":0,\"x1\":1,\"xref\":\"x domain\",\"y0\":70,\"y1\":70,\"yref\":\"y\"},{\"line\":{\"color\":\"red\",\"dash\":\"dash\"},\"opacity\":0.3,\"type\":\"line\",\"x0\":15,\"x1\":15,\"xref\":\"x\",\"y0\":0,\"y1\":1,\"yref\":\"y domain\"}],\"title\":{\"font\":{\"size\":18,\"color\":\"black\"},\"text\":\"Trade Quality Matrix - Earnings Plays\",\"x\":0.5,\"xanchor\":\"center\"},\"xaxis\":{\"title\":{\"text\":\"IV Premium (%)\"},\"showgrid\":false,\"zeroline\":true},\"yaxis\":{\"title\":{\"text\":\"Containment Rate (%)\"},\"showgrid\":false,\"zeroline\":false},\"legend\":{\"x\":1,\"y\":0,\"xanchor\":\"right\",\"yanchor\":\"bottom\"},\"hovermode\":\"closest\",\"plot_bgcolor\":\"white\",\"width\":1200,\"height\":700,\"annotations\":[{\"font\":{\"color\":\"gray\",\"size\":10,\"style\":\"italic\"},\"showarrow\":false,\"text\":\"Gold Zone = Top-right quadrant (High Containment + Rich Premium)\",\"x\":1,\"xanchor\":\"right\",\"xref\":\"paper\",\"y\":-0.1,\"yanchor\":\"top\",\"yref\":\"paper\"}]},                        {\"responsive\": true}                    ).then(function(){\n",
       "                            \n",
       "var gd = document.getElementById('efbad04e-3f0b-49d6-9a3e-7c57b87997eb');\n",
       "var x = new MutationObserver(function (mutations, observer) {{\n",
       "        var display = window.getComputedStyle(gd).display;\n",
       "        if (!display || display === 'none') {{\n",
       "            console.log([gd, 'removed!']);\n",
       "            Plotly.purge(gd);\n",
       "            observer.disconnect();\n",
       "        }}\n",
       "}});\n",
       "\n",
       "// Listen for the removal of the full notebook cells\n",
       "var notebookContainer = gd.closest('#notebook-container');\n",
       "if (notebookContainer) {{\n",
       "    x.observe(notebookContainer, {childList: true});\n",
       "}}\n",
       "\n",
       "// Listen for the clearing of the current output cell\n",
       "var outputEl = gd.closest('.output');\n",
       "if (outputEl) {{\n",
       "    x.observe(outputEl, {childList: true});\n",
       "}}\n",
       "\n",
       "                        })                };                });            </script>        </div>"
      ]
     },
     "metadata": {},
     "output_type": "display_data"
    }
   ],
   "source": [
    "from earnings_analyzer import batch_analyze\n",
    "from earnings_analyzer.visualization.quality_matrix import plot_quality_matrix\n",
    "\n",
    "# Full ticker list\n",
    "tickers = [\n",
    "    \"DAL\", \"PEP\", \"FAST\", \"BLK\", \"C\", \"DPZ\", \"GS\", \"JNJ\", \"JPM\", \"WFC\",\n",
    "    \"OMC\", \"ABT\", \"BAC\", \"CFG\", \"MS\", \"PGR\", \"PLD\", \"PNC\", \"SYF\", \"JBHT\",\n",
    "    \"UAL\", \"BK\", \"KEY\", \"MMC\", \"MTB\", \"SCHW\", \"SNA\", \"TRV\", \"USB\", \"CSX\",\n",
    "    \"AXP\", \"FITB\", \"HBAN\", \"RF\", \"SLB\", \"STT\", \"TFC\", \"STLD\"\n",
    "]\n",
    "\n",
    "results = batch_analyze(tickers, lookback_quarters=24, fetch_iv=True, parallel=True)\n",
    "\n",
    "if results is not None:\n",
    "    plot_quality_matrix(results, save_path='quality_matrix_full.html', show=True)"
   ]
  },
  {
   "cell_type": "code",
   "execution_count": 6,
   "id": "2aaf135c-16d8-4911-8253-c844663729b9",
   "metadata": {},
   "outputs": [
    {
     "name": "stdout",
     "output_type": "stream",
     "text": [
      "\n",
      "===========================================================================\n",
      "EARNINGS CONTAINMENT ANALYZER - v2.5 (HVol Backtest)\n",
      "Lookback: 24 quarters (~6 years)\n",
      "Current IV from Yahoo Finance (15-20min delayed)\n",
      "===========================================================================\n",
      "\n",
      "✓ All 4 API keys available\n",
      "                                                                                \n",
      "📊 FETCH SUMMARY\n",
      "===========================================================================\n",
      "✓ Earnings Cached (2): AAPL, MSFT\n",
      "✓ IV Retrieved (2): AAPL, MSFT\n",
      "\n",
      "==============================================================================================================\n",
      "BACKTEST RESULTS\n",
      "==============================================================================================================\n",
      "Ticker  HVol% CurIV% IVPrem |  90D%  90Bias 90Break 90Drift  |                                                     Pattern\n",
      "  AAPL     27     28    +4% |    78      57     3:2   +5.4%   |            IC90 + BIAS↑ (3:2↑ 90d breaks, +5.4% 90d drift)\n",
      "  MSFT     24     28   +16% |    78      65    5:0↑   +6.2%   | IC90⚠↑ + IC45⚠↑ + BIAS↑ (5:0↑ 90d breaks, +6.2% 90d drift)\n",
      "\n",
      "==============================================================================================================\n",
      "PATTERN LEGEND:\n",
      "==============================================================================================================\n",
      "• IC45/IC90: Mean reversion containment windows (45-day/90-day)\n",
      "• BIAS↑/BIAS↓: Directional edge (always based on 90-day thresholds)\n",
      "• ⚠↑/⚠↓: Asymmetric break risk (watch for skewed movement)\n",
      "• Edge count: Number of independent 90-day patterns detected\n",
      "• All bias metrics (%, breaks, drift) reference 90-day analysis\n",
      "\n",
      "==============================================================================================================\n",
      "KEY TAKEAWAYS:\n",
      "==============================================================================================================\n",
      "\n",
      "📊 Pattern Summary: 2 IC candidates | 2 Upward bias | 0 Downward bias | 0 No edge\n",
      "\n",
      "💰 IV Landscape:\n",
      "  Rich Premium (≥15%): MSFT(+16%)\n",
      "  Normal Range: 1 tickers\n",
      "\n",
      "⚠️  Asymmetric ICs:\n",
      "  Upside risk: MSFT\n",
      "\n",
      "💡 Remember: Past patterns ≠ Future results. IV context shows current opportunity cost.\n"
     ]
    }
   ],
   "source": [
    "from earnings_analyzer import batch_analyze\n",
    "results = batch_analyze([\"AAPL\", \"MSFT\"], lookback_quarters=24, fetch_iv=True)"
   ]
  },
  {
   "cell_type": "code",
   "execution_count": null,
   "id": "d70a8df7-e3bb-430a-b70e-021909150fd4",
   "metadata": {},
   "outputs": [],
   "source": []
  }
 ],
 "metadata": {
  "kernelspec": {
   "display_name": "Python 3 (ipykernel)",
   "language": "python",
   "name": "python3"
  },
  "language_info": {
   "codemirror_mode": {
    "name": "ipython",
    "version": 3
   },
   "file_extension": ".py",
   "mimetype": "text/x-python",
   "name": "python",
   "nbconvert_exporter": "python",
   "pygments_lexer": "ipython3",
   "version": "3.12.3"
  }
 },
 "nbformat": 4,
 "nbformat_minor": 5
}
