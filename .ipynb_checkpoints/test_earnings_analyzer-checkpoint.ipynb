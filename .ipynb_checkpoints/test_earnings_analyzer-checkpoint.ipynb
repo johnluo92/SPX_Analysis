{
 "cells": [
  {
   "cell_type": "code",
   "execution_count": 10,
   "id": "588da32a-42ff-4855-9959-bc2866266bb4",
   "metadata": {},
   "outputs": [
    {
     "name": "stdout",
     "output_type": "stream",
     "text": [
      "\n",
      "===========================================================================\n",
      "EARNINGS CONTAINMENT ANALYZER - v2.3\n",
      "Lookback: 24 quarters (~6 years)\n",
      "Current IV from Yahoo Finance (15-20min delayed)\n",
      "===========================================================================\n",
      "\n",
      "✓ All 4 API keys available\n",
      "                                                                                \n",
      "📊 FETCH SUMMARY\n",
      "===========================================================================\n",
      "✓ Earnings Cached (5): AAPL, MSFT, JPM, BAC, C\n",
      "✓ IV Retrieved (5): AAPL, MSFT, JPM, BAC, C\n",
      "\n",
      "==============================================================================================================\n",
      "BACKTEST RESULTS\n",
      "==============================================================================================================\n",
      "Ticker  HVol% CurIV% IVPrem |  90D%  90Bias 90Break 90Drift  |                                     Pattern\n",
      "  AAPL     27     26    -1% |    78      57     3:2   +5.4%   |                                       IC90\n",
      "  MSFT     24     28   +14% |    78      65    5:0↑   +6.2%   |                                     IC90⚠↑\n",
      "   JPM     28     28    +2% |    61      70    6:3↑   +4.7%   | BIAS↑ (70% bias, 6:3↑ breaks, +4.7% drift)\n",
      "   BAC     32     30    -5% |    61      61     5:4   +3.1%   |                        BIAS↑ (+3.1% drift)\n",
      "     C     34     31    -8% |    70      48     4:3   +2.9%   |                                       IC90\n",
      "\n",
      "==============================================================================================================\n",
      "KEY TAKEAWAYS:\n",
      "==============================================================================================================\n",
      "\n",
      "📊 Pattern Summary: 3 IC candidates | 2 Upward bias | 0 Downward bias | 0 No edge\n",
      "\n",
      "💰 IV Landscape:\n",
      "  Normal Range: 5 tickers\n",
      "\n",
      "⚠️  Asymmetric ICs:\n",
      "  Upside risk: MSFT\n",
      "\n",
      "📈 Strong Directional Signals:\n",
      "  JPM: 70% bias ↑, 6:3↑ breaks, +4.7% drift\n",
      "\n",
      "💡 Remember: Past patterns ≠ Future results. IV context shows current opportunity cost.\n"
     ]
    }
   ],
   "source": [
    "from earnings_analyzer import batch_analyze\n",
    "\n",
    "tickers = [\"AAPL\", \"MSFT\", \"JPM\", \"BAC\", \"C\"]\n",
    "full_tickers = [\n",
    "    \"DAL\", \"PEP\", \"FAST\", \"BLK\", \"C\", \"DPZ\", \"GS\", \"JNJ\", \"JPM\", \"WFC\",\n",
    "    \"OMC\", \"ABT\", \"BAC\", \"CFG\", \"MS\", \"PGR\", \"PLD\", \"PNC\", \"SYF\", \"JBHT\",\n",
    "    \"UAL\", \"BK\", \"KEY\", \"MMC\", \"MTB\", \"SCHW\", \"SNA\", \"TRV\", \"USB\", \"CSX\",\n",
    "    \"AXP\", \"FITB\", \"HBAN\", \"RF\", \"SLB\", \"STT\", \"TFC\", \"STLD\"\n",
    "]\n",
    "results = batch_analyze(tickers, lookback_quarters=24, fetch_iv=True, parallel=False)"
   ]
  },
  {
   "cell_type": "code",
   "execution_count": null,
   "id": "44158403-fb6a-4ce2-8fb9-8af245d788a7",
   "metadata": {},
   "outputs": [],
   "source": []
  }
 ],
 "metadata": {
  "kernelspec": {
   "display_name": "Python 3 (ipykernel)",
   "language": "python",
   "name": "python3"
  },
  "language_info": {
   "codemirror_mode": {
    "name": "ipython",
    "version": 3
   },
   "file_extension": ".py",
   "mimetype": "text/x-python",
   "name": "python",
   "nbconvert_exporter": "python",
   "pygments_lexer": "ipython3",
   "version": "3.10.4"
  }
 },
 "nbformat": 4,
 "nbformat_minor": 5
}
