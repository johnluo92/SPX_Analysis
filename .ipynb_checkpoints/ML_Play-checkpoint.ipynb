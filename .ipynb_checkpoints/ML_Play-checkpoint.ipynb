{
 "cells": [
  {
   "cell_type": "code",
   "execution_count": null,
   "id": "f7d5e6c0",
   "metadata": {},
   "outputs": [],
   "source": [
    "import numpy as np\n",
    "import pandas as pd\n",
    "import scipy.optimize as opt\n",
    "\n",
    "# Load the data\n",
    "df = pd.read_csv('AAPL.csv')\n",
    "\n",
    "# Define the model parameters\n",
    "def model(params, data):\n",
    "    sigma, alpha, beta = params\n",
    "    sigma2 = np.zeros(len(data))\n",
    "    sigma2[0] = sigma**2\n",
    "    for i in range(1, len(data)):\n",
    "        sigma2[i] = sigma2[i-1] + alpha*(data[i-1] - beta*sigma2[i-1])\n",
    "    return sigma2\n",
    "\n",
    "# Define the loss function\n",
    "def loss(params, data):\n",
    "    sigma2 = model(params, data)\n",
    "    return ((data - sigma2)**2).mean()\n",
    "\n",
    "# Optimize the model parameters\n",
    "params0 = [0.1, 0.1, 0.1]\n",
    "result = opt.minimize(loss, params0, args=(df['AAPL'],))\n",
    "\n",
    "# Print the optimized parameters\n",
    "print(result.x)\n",
    "\n",
    "# Predict the stock price using the optimized parameters\n",
    "sigma2 = model(result.x, df['AAPL'])\n",
    "prediction = np.random.normal(loc=df['AAPL'], scale=np.sqrt(sigma2))\n",
    "print(prediction)"
   ]
  },
  {
   "cell_type": "code",
   "execution_count": 4,
   "id": "4e1be562",
   "metadata": {},
   "outputs": [
    {
     "name": "stdout",
     "output_type": "stream",
     "text": [
      "[*********************100%***********************]  1 of 1 completed\n",
      "             Close\n",
      "Date              \n",
      "1980-12-12    0.13\n",
      "1980-12-15    0.12\n",
      "1980-12-16    0.11\n",
      "1980-12-17    0.12\n",
      "1980-12-18    0.12\n",
      "...            ...\n",
      "2022-12-28  126.04\n",
      "2022-12-29  129.61\n",
      "2022-12-30  129.93\n",
      "2023-01-03  125.07\n",
      "2023-01-04  126.36\n",
      "\n",
      "[10605 rows x 1 columns]\n"
     ]
    }
   ],
   "source": [
    "import pandas as pd\n",
    "import pandas_datareader as pdr\n",
    "\n",
    "import yfinance as yf\n",
    "yf.pdr_override()\n",
    "\n",
    "import pandas_datareader.data as pdr\n",
    "\n",
    "AAPL = pdr.get_data_yahoo('AAPL')\n",
    "AAPL = AAPL.reindex(columns=['Close'])\n",
    "AAPL = AAPL.round(2)\n",
    "\n",
    "# Print the data\n",
    "print(AAPL)"
   ]
  },
  {
   "cell_type": "code",
   "execution_count": 22,
   "id": "d28b0e31",
   "metadata": {},
   "outputs": [
    {
     "name": "stdout",
     "output_type": "stream",
     "text": [
      "The last character is not a newline.\n"
     ]
    }
   ],
   "source": [
    "# Open the file in text mode\n",
    "with open('SPX_Data2.csv', 'a+') as file:\n",
    "    # Get the size of the file\n",
    "    size = file.seek(0, 2)\n",
    "    # Move the file pointer to the last character\n",
    "    file.seek(size-1, 0)\n",
    "    # Read the last character in the file\n",
    "    last_char = file.read(1)\n",
    "\n",
    "# Check if the last character is a newline character\n",
    "    if last_char == '\\n':\n",
    "        print('The last character is a newline.')\n",
    "    else:\n",
    "        print('The last character is not a newline.')\n",
    "        file.write('\\n')\n"
   ]
  }
 ],
 "metadata": {
  "kernelspec": {
   "display_name": "Python 3 (ipykernel)",
   "language": "python",
   "name": "python3"
  },
  "language_info": {
   "codemirror_mode": {
    "name": "ipython",
    "version": 3
   },
   "file_extension": ".py",
   "mimetype": "text/x-python",
   "name": "python",
   "nbconvert_exporter": "python",
   "pygments_lexer": "ipython3",
   "version": "3.8.9"
  }
 },
 "nbformat": 4,
 "nbformat_minor": 5
}
