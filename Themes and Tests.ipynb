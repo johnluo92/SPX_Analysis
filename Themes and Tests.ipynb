{
 "cells": [
  {
   "cell_type": "code",
   "execution_count": null,
   "id": "fd847abe",
   "metadata": {},
   "outputs": [],
   "source": [
    "import numpy as np\n",
    "import pandas as pd\n",
    "\n",
    "import yfinance as yf\n",
    "yf.pdr_override() # <== that's all it takes :-)\n",
    "import pandas_datareader.data as pdr\n",
    "from pandas_datareader import data\n",
    "\n",
    "AAPL = pdr.get_data_yahoo('AAPL')\n",
    "\n",
    "AAPL = AAPL['Close']\n",
    "   SP500.drop(columns=['Date','Volume','Adj Close**'], inplace=True)\n",
    "    return SP500"
   ]
  },
  {
   "cell_type": "code",
   "execution_count": null,
   "id": "2b3fe776",
   "metadata": {},
   "outputs": [],
   "source": [
    "!jt -t chesterish"
   ]
  },
  {
   "cell_type": "code",
   "execution_count": 44,
   "id": "d172a010",
   "metadata": {},
   "outputs": [],
   "source": [
    "!jt -t onedork -f roboto -fs 12"
   ]
  },
  {
   "cell_type": "code",
   "execution_count": 43,
   "id": "3558cf82",
   "metadata": {},
   "outputs": [],
   "source": [
    "!jt -t chesterish -cellw 90% -lineh 170"
   ]
  },
  {
   "cell_type": "code",
   "execution_count": 59,
   "id": "37d8a0ab",
   "metadata": {},
   "outputs": [],
   "source": [
    "!jt -t chesterish -fs 100 -altp -tfs 12 -nfs 120 -cellw 85%"
   ]
  }
 ],
 "metadata": {
  "kernelspec": {
   "display_name": "Python 3 (ipykernel)",
   "language": "python",
   "name": "python3"
  },
  "language_info": {
   "codemirror_mode": {
    "name": "ipython",
    "version": 3
   },
   "file_extension": ".py",
   "mimetype": "text/x-python",
   "name": "python",
   "nbconvert_exporter": "python",
   "pygments_lexer": "ipython3",
   "version": "3.8.9"
  }
 },
 "nbformat": 4,
 "nbformat_minor": 5
}
