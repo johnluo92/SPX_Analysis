{
 "cells": [
  {
   "cell_type": "code",
   "execution_count": 1,
   "id": "0c4154f8-f910-40e8-bff1-8bfd4cc8c9bf",
   "metadata": {},
   "outputs": [
    {
     "name": "stdout",
     "output_type": "stream",
     "text": [
      "3.0\n",
      "0.0\n"
     ]
    },
    {
     "ename": "AssertionError",
     "evalue": "Input must be non-negative",
     "output_type": "error",
     "traceback": [
      "\u001b[0;31m---------------------------------------------------------------------------\u001b[0m",
      "\u001b[0;31mAssertionError\u001b[0m                            Traceback (most recent call last)",
      "Cell \u001b[0;32mIn[1], line 9\u001b[0m\n\u001b[1;32m      7\u001b[0m \u001b[38;5;28mprint\u001b[39m(square_root(\u001b[38;5;241m9\u001b[39m))   \u001b[38;5;66;03m# ✅ Works fine\u001b[39;00m\n\u001b[1;32m      8\u001b[0m \u001b[38;5;28mprint\u001b[39m(square_root(\u001b[38;5;241m0\u001b[39m))   \u001b[38;5;66;03m# ✅ Works fine\u001b[39;00m\n\u001b[0;32m----> 9\u001b[0m \u001b[38;5;28mprint\u001b[39m(\u001b[43msquare_root\u001b[49m\u001b[43m(\u001b[49m\u001b[38;5;241;43m-\u001b[39;49m\u001b[38;5;241;43m4\u001b[39;49m\u001b[43m)\u001b[49m)  \u001b[38;5;66;03m# ❌ Raises AssertionError: Input must be non-negative\u001b[39;00m\n",
      "Cell \u001b[0;32mIn[1], line 4\u001b[0m, in \u001b[0;36msquare_root\u001b[0;34m(x)\u001b[0m\n\u001b[1;32m      2\u001b[0m \u001b[38;5;28;01mdef\u001b[39;00m \u001b[38;5;21msquare_root\u001b[39m(x):\n\u001b[1;32m      3\u001b[0m     \u001b[38;5;66;03m# Ensure x is non-negative before continuing\u001b[39;00m\n\u001b[0;32m----> 4\u001b[0m     \u001b[38;5;28;01massert\u001b[39;00m x \u001b[38;5;241m>\u001b[39m\u001b[38;5;241m=\u001b[39m \u001b[38;5;241m0\u001b[39m, \u001b[38;5;124m\"\u001b[39m\u001b[38;5;124mInput must be non-negative\u001b[39m\u001b[38;5;124m\"\u001b[39m\n\u001b[1;32m      5\u001b[0m     \u001b[38;5;28;01mreturn\u001b[39;00m x \u001b[38;5;241m*\u001b[39m\u001b[38;5;241m*\u001b[39m \u001b[38;5;241m0.5\u001b[39m\n",
      "\u001b[0;31mAssertionError\u001b[0m: Input must be non-negative"
     ]
    }
   ],
   "source": [
    "# Example: Checking that a function never gets a negative input\n",
    "def square_root(x):\n",
    "    # Ensure x is non-negative before continuing\n",
    "    assert x >= 0, \"Input must be non-negative\"\n",
    "    return x ** 0.5\n",
    "\n",
    "print(square_root(9))   # ✅ Works fine\n",
    "print(square_root(0))   # ✅ Works fine\n",
    "print(square_root(-4))  # ❌ Raises AssertionError: Input must be non-negative\n"
   ]
  },
  {
   "cell_type": "code",
   "execution_count": null,
   "id": "1629f48d-ac8f-46b5-8d5c-cf72cef17286",
   "metadata": {},
   "outputs": [],
   "source": []
  }
 ],
 "metadata": {
  "kernelspec": {
   "display_name": "Python 3 (ipykernel)",
   "language": "python",
   "name": "python3"
  },
  "language_info": {
   "codemirror_mode": {
    "name": "ipython",
    "version": 3
   },
   "file_extension": ".py",
   "mimetype": "text/x-python",
   "name": "python",
   "nbconvert_exporter": "python",
   "pygments_lexer": "ipython3",
   "version": "3.12.3"
  }
 },
 "nbformat": 4,
 "nbformat_minor": 5
}
